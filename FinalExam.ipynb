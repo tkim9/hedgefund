{
 "cells": [
  {
   "cell_type": "code",
   "execution_count": 1,
   "metadata": {},
   "outputs": [
    {
     "name": "stderr",
     "output_type": "stream",
     "text": [
      "C:\\Users\\sonww\\Anaconda3\\lib\\site-packages\\statsmodels\\compat\\pandas.py:56: FutureWarning: The pandas.core.datetools module is deprecated and will be removed in a future version. Please use the pandas.tseries module instead.\n",
      "  from pandas.core import datetools\n"
     ]
    }
   ],
   "source": [
    "import numpy as np\n",
    "import pandas as pd\n",
    "from scipy import stats\n",
    "import statsmodels.api as sm   # regression\n",
    "\n",
    "import matplotlib.pyplot as plt\n",
    "%matplotlib inline"
   ]
  },
  {
   "cell_type": "code",
   "execution_count": 2,
   "metadata": {
    "collapsed": true
   },
   "outputs": [],
   "source": [
    "df = pd.read_csv('ActiveETFs_Data.csv')"
   ]
  },
  {
   "cell_type": "code",
   "execution_count": 3,
   "metadata": {},
   "outputs": [
    {
     "data": {
      "text/html": [
       "<div>\n",
       "<style>\n",
       "    .dataframe thead tr:only-child th {\n",
       "        text-align: right;\n",
       "    }\n",
       "\n",
       "    .dataframe thead th {\n",
       "        text-align: left;\n",
       "    }\n",
       "\n",
       "    .dataframe tbody tr th {\n",
       "        vertical-align: top;\n",
       "    }\n",
       "</style>\n",
       "<table border=\"1\" class=\"dataframe\">\n",
       "  <thead>\n",
       "    <tr style=\"text-align: right;\">\n",
       "      <th></th>\n",
       "      <th>Date</th>\n",
       "      <th>Market</th>\n",
       "      <th>Risk Free</th>\n",
       "      <th>Mpremium</th>\n",
       "      <th>Small</th>\n",
       "      <th>Big</th>\n",
       "      <th>SMB</th>\n",
       "      <th>High B/M</th>\n",
       "      <th>Low B/M</th>\n",
       "      <th>HML</th>\n",
       "      <th>Winner</th>\n",
       "      <th>Loser</th>\n",
       "      <th>MOM</th>\n",
       "    </tr>\n",
       "  </thead>\n",
       "  <tbody>\n",
       "    <tr>\n",
       "      <th>0</th>\n",
       "      <td>192701</td>\n",
       "      <td>0.14</td>\n",
       "      <td>0.25</td>\n",
       "      <td>-0.11</td>\n",
       "      <td>1.22</td>\n",
       "      <td>1.33</td>\n",
       "      <td>-0.11</td>\n",
       "      <td>4.41</td>\n",
       "      <td>-0.52</td>\n",
       "      <td>4.92</td>\n",
       "      <td>0.05</td>\n",
       "      <td>-0.19</td>\n",
       "      <td>0.23</td>\n",
       "    </tr>\n",
       "    <tr>\n",
       "      <th>1</th>\n",
       "      <td>192702</td>\n",
       "      <td>4.58</td>\n",
       "      <td>0.26</td>\n",
       "      <td>4.32</td>\n",
       "      <td>5.73</td>\n",
       "      <td>5.38</td>\n",
       "      <td>0.35</td>\n",
       "      <td>7.25</td>\n",
       "      <td>4.08</td>\n",
       "      <td>3.17</td>\n",
       "      <td>4.94</td>\n",
       "      <td>6.48</td>\n",
       "      <td>-1.54</td>\n",
       "    </tr>\n",
       "    <tr>\n",
       "      <th>2</th>\n",
       "      <td>192703</td>\n",
       "      <td>0.62</td>\n",
       "      <td>0.30</td>\n",
       "      <td>0.32</td>\n",
       "      <td>-2.14</td>\n",
       "      <td>-0.27</td>\n",
       "      <td>-1.87</td>\n",
       "      <td>-3.00</td>\n",
       "      <td>-0.08</td>\n",
       "      <td>-2.92</td>\n",
       "      <td>-0.22</td>\n",
       "      <td>-3.45</td>\n",
       "      <td>3.23</td>\n",
       "    </tr>\n",
       "    <tr>\n",
       "      <th>3</th>\n",
       "      <td>192704</td>\n",
       "      <td>0.66</td>\n",
       "      <td>0.25</td>\n",
       "      <td>0.41</td>\n",
       "      <td>1.20</td>\n",
       "      <td>0.76</td>\n",
       "      <td>0.44</td>\n",
       "      <td>2.32</td>\n",
       "      <td>0.99</td>\n",
       "      <td>1.33</td>\n",
       "      <td>2.69</td>\n",
       "      <td>-1.59</td>\n",
       "      <td>4.28</td>\n",
       "    </tr>\n",
       "    <tr>\n",
       "      <th>4</th>\n",
       "      <td>192705</td>\n",
       "      <td>5.69</td>\n",
       "      <td>0.30</td>\n",
       "      <td>5.39</td>\n",
       "      <td>6.34</td>\n",
       "      <td>5.94</td>\n",
       "      <td>0.40</td>\n",
       "      <td>8.51</td>\n",
       "      <td>5.76</td>\n",
       "      <td>2.75</td>\n",
       "      <td>7.16</td>\n",
       "      <td>3.82</td>\n",
       "      <td>3.34</td>\n",
       "    </tr>\n",
       "  </tbody>\n",
       "</table>\n",
       "</div>"
      ],
      "text/plain": [
       "     Date  Market  Risk Free  Mpremium  Small   Big   SMB  High B/M  Low B/M  \\\n",
       "0  192701    0.14       0.25     -0.11   1.22  1.33 -0.11      4.41    -0.52   \n",
       "1  192702    4.58       0.26      4.32   5.73  5.38  0.35      7.25     4.08   \n",
       "2  192703    0.62       0.30      0.32  -2.14 -0.27 -1.87     -3.00    -0.08   \n",
       "3  192704    0.66       0.25      0.41   1.20  0.76  0.44      2.32     0.99   \n",
       "4  192705    5.69       0.30      5.39   6.34  5.94  0.40      8.51     5.76   \n",
       "\n",
       "    HML  Winner  Loser   MOM  \n",
       "0  4.92    0.05  -0.19  0.23  \n",
       "1  3.17    4.94   6.48 -1.54  \n",
       "2 -2.92   -0.22  -3.45  3.23  \n",
       "3  1.33    2.69  -1.59  4.28  \n",
       "4  2.75    7.16   3.82  3.34  "
      ]
     },
     "execution_count": 3,
     "metadata": {},
     "output_type": "execute_result"
    }
   ],
   "source": [
    "df.head()"
   ]
  },
  {
   "cell_type": "code",
   "execution_count": 8,
   "metadata": {},
   "outputs": [],
   "source": [
    "df['Date'] = df['Date'].apply(lambda x: pd.to_datetime(str(x), format= '%Y%m'))"
   ]
  },
  {
   "cell_type": "code",
   "execution_count": 9,
   "metadata": {
    "collapsed": true
   },
   "outputs": [],
   "source": [
    "df.set_index('Date', inplace = True)"
   ]
  },
  {
   "cell_type": "code",
   "execution_count": 12,
   "metadata": {},
   "outputs": [],
   "source": [
    "test = df.reset_index()"
   ]
  },
  {
   "cell_type": "code",
   "execution_count": 15,
   "metadata": {},
   "outputs": [],
   "source": [
    "test['month'] = test['Date'].apply(lambda x: x.month)"
   ]
  },
  {
   "cell_type": "code",
   "execution_count": 18,
   "metadata": {},
   "outputs": [],
   "source": [
    "q2 = test.groupby(['month']).mean()"
   ]
  },
  {
   "cell_type": "code",
   "execution_count": 24,
   "metadata": {},
   "outputs": [],
   "source": [
    "q2result = q2[['Mpremium', 'SMB','HML','MOM']]"
   ]
  },
  {
   "cell_type": "code",
   "execution_count": 25,
   "metadata": {},
   "outputs": [
    {
     "data": {
      "text/html": [
       "<div>\n",
       "<style>\n",
       "    .dataframe thead tr:only-child th {\n",
       "        text-align: right;\n",
       "    }\n",
       "\n",
       "    .dataframe thead th {\n",
       "        text-align: left;\n",
       "    }\n",
       "\n",
       "    .dataframe tbody tr th {\n",
       "        vertical-align: top;\n",
       "    }\n",
       "</style>\n",
       "<table border=\"1\" class=\"dataframe\">\n",
       "  <thead>\n",
       "    <tr style=\"text-align: right;\">\n",
       "      <th></th>\n",
       "      <th>Mpremium</th>\n",
       "      <th>SMB</th>\n",
       "      <th>HML</th>\n",
       "      <th>MOM</th>\n",
       "    </tr>\n",
       "    <tr>\n",
       "      <th>month</th>\n",
       "      <th></th>\n",
       "      <th></th>\n",
       "      <th></th>\n",
       "      <th></th>\n",
       "    </tr>\n",
       "  </thead>\n",
       "  <tbody>\n",
       "    <tr>\n",
       "      <th>1</th>\n",
       "      <td>1.275783</td>\n",
       "      <td>2.442289</td>\n",
       "      <td>2.404819</td>\n",
       "      <td>-1.629880</td>\n",
       "    </tr>\n",
       "    <tr>\n",
       "      <th>2</th>\n",
       "      <td>0.149036</td>\n",
       "      <td>0.615904</td>\n",
       "      <td>0.187229</td>\n",
       "      <td>1.219398</td>\n",
       "    </tr>\n",
       "    <tr>\n",
       "      <th>3</th>\n",
       "      <td>0.348072</td>\n",
       "      <td>0.155904</td>\n",
       "      <td>0.224578</td>\n",
       "      <td>1.213855</td>\n",
       "    </tr>\n",
       "    <tr>\n",
       "      <th>4</th>\n",
       "      <td>1.030361</td>\n",
       "      <td>-0.082048</td>\n",
       "      <td>1.178675</td>\n",
       "      <td>0.264940</td>\n",
       "    </tr>\n",
       "    <tr>\n",
       "      <th>5</th>\n",
       "      <td>0.345422</td>\n",
       "      <td>0.473133</td>\n",
       "      <td>0.090241</td>\n",
       "      <td>0.488554</td>\n",
       "    </tr>\n",
       "    <tr>\n",
       "      <th>6</th>\n",
       "      <td>0.641928</td>\n",
       "      <td>-0.117470</td>\n",
       "      <td>-0.095181</td>\n",
       "      <td>1.264458</td>\n",
       "    </tr>\n",
       "    <tr>\n",
       "      <th>7</th>\n",
       "      <td>1.159639</td>\n",
       "      <td>-0.240602</td>\n",
       "      <td>1.073012</td>\n",
       "      <td>-0.120241</td>\n",
       "    </tr>\n",
       "    <tr>\n",
       "      <th>8</th>\n",
       "      <td>1.077470</td>\n",
       "      <td>0.070843</td>\n",
       "      <td>0.507711</td>\n",
       "      <td>-0.258313</td>\n",
       "    </tr>\n",
       "    <tr>\n",
       "      <th>9</th>\n",
       "      <td>-1.152651</td>\n",
       "      <td>0.368675</td>\n",
       "      <td>-0.315060</td>\n",
       "      <td>1.109639</td>\n",
       "    </tr>\n",
       "    <tr>\n",
       "      <th>10</th>\n",
       "      <td>-0.210964</td>\n",
       "      <td>-0.838916</td>\n",
       "      <td>-0.277711</td>\n",
       "      <td>1.026867</td>\n",
       "    </tr>\n",
       "    <tr>\n",
       "      <th>11</th>\n",
       "      <td>1.196386</td>\n",
       "      <td>0.215181</td>\n",
       "      <td>-0.396145</td>\n",
       "      <td>1.122048</td>\n",
       "    </tr>\n",
       "    <tr>\n",
       "      <th>12</th>\n",
       "      <td>1.457229</td>\n",
       "      <td>-0.028072</td>\n",
       "      <td>-0.462892</td>\n",
       "      <td>2.695663</td>\n",
       "    </tr>\n",
       "  </tbody>\n",
       "</table>\n",
       "</div>"
      ],
      "text/plain": [
       "       Mpremium       SMB       HML       MOM\n",
       "month                                        \n",
       "1      1.275783  2.442289  2.404819 -1.629880\n",
       "2      0.149036  0.615904  0.187229  1.219398\n",
       "3      0.348072  0.155904  0.224578  1.213855\n",
       "4      1.030361 -0.082048  1.178675  0.264940\n",
       "5      0.345422  0.473133  0.090241  0.488554\n",
       "6      0.641928 -0.117470 -0.095181  1.264458\n",
       "7      1.159639 -0.240602  1.073012 -0.120241\n",
       "8      1.077470  0.070843  0.507711 -0.258313\n",
       "9     -1.152651  0.368675 -0.315060  1.109639\n",
       "10    -0.210964 -0.838916 -0.277711  1.026867\n",
       "11     1.196386  0.215181 -0.396145  1.122048\n",
       "12     1.457229 -0.028072 -0.462892  2.695663"
      ]
     },
     "execution_count": 25,
     "metadata": {},
     "output_type": "execute_result"
    }
   ],
   "source": [
    "q2result"
   ]
  },
  {
   "cell_type": "code",
   "execution_count": 29,
   "metadata": {},
   "outputs": [
    {
     "data": {
      "text/plain": [
       "<matplotlib.legend.Legend at 0x225b52256a0>"
      ]
     },
     "execution_count": 29,
     "metadata": {},
     "output_type": "execute_result"
    },
    {
     "data": {
      "image/png": "[encoded data removed]",
      "text/plain": [
       "<matplotlib.figure.Figure at 0x225b51fe668>"
      ]
     },
     "metadata": {},
     "output_type": "display_data"
    }
   ],
   "source": [
    "plt.plot(q2result)\n",
    "plt.legend(q2result.columns)"
   ]
  },
  {
   "cell_type": "code",
   "execution_count": 30,
   "metadata": {
    "collapsed": true
   },
   "outputs": [],
   "source": [
    "def cumretfunc(df): \n",
    "    v=(df.prod())-1\n",
    "    return v"
   ]
  },
  {
   "cell_type": "code",
   "execution_count": 32,
   "metadata": {},
   "outputs": [],
   "source": [
    "fdf = df[['Mpremium', 'SMB','HML','MOM']]"
   ]
  },
  {
   "cell_type": "code",
   "execution_count": 35,
   "metadata": {},
   "outputs": [],
   "source": [
    "cumdf = 1+ fdf/100"
   ]
  },
  {
   "cell_type": "code",
   "execution_count": 40,
   "metadata": {},
   "outputs": [
    {
     "data": {
      "text/html": [
       "<div>\n",
       "<style>\n",
       "    .dataframe thead tr:only-child th {\n",
       "        text-align: right;\n",
       "    }\n",
       "\n",
       "    .dataframe thead th {\n",
       "        text-align: left;\n",
       "    }\n",
       "\n",
       "    .dataframe tbody tr th {\n",
       "        vertical-align: top;\n",
       "    }\n",
       "</style>\n",
       "<table border=\"1\" class=\"dataframe\">\n",
       "  <thead>\n",
       "    <tr style=\"text-align: right;\">\n",
       "      <th></th>\n",
       "      <th>Mpremium</th>\n",
       "      <th>SMB</th>\n",
       "      <th>HML</th>\n",
       "      <th>MOM</th>\n",
       "    </tr>\n",
       "    <tr>\n",
       "      <th>Date</th>\n",
       "      <th></th>\n",
       "      <th></th>\n",
       "      <th></th>\n",
       "      <th></th>\n",
       "    </tr>\n",
       "  </thead>\n",
       "  <tbody>\n",
       "    <tr>\n",
       "      <th>1927-01-01</th>\n",
       "      <td>0.9989</td>\n",
       "      <td>0.9989</td>\n",
       "      <td>1.0492</td>\n",
       "      <td>1.0023</td>\n",
       "    </tr>\n",
       "    <tr>\n",
       "      <th>1927-02-01</th>\n",
       "      <td>1.0432</td>\n",
       "      <td>1.0035</td>\n",
       "      <td>1.0317</td>\n",
       "      <td>0.9846</td>\n",
       "    </tr>\n",
       "    <tr>\n",
       "      <th>1927-03-01</th>\n",
       "      <td>1.0032</td>\n",
       "      <td>0.9813</td>\n",
       "      <td>0.9708</td>\n",
       "      <td>1.0323</td>\n",
       "    </tr>\n",
       "    <tr>\n",
       "      <th>1927-04-01</th>\n",
       "      <td>1.0041</td>\n",
       "      <td>1.0044</td>\n",
       "      <td>1.0133</td>\n",
       "      <td>1.0428</td>\n",
       "    </tr>\n",
       "    <tr>\n",
       "      <th>1927-05-01</th>\n",
       "      <td>1.0539</td>\n",
       "      <td>1.0040</td>\n",
       "      <td>1.0275</td>\n",
       "      <td>1.0334</td>\n",
       "    </tr>\n",
       "  </tbody>\n",
       "</table>\n",
       "</div>"
      ],
      "text/plain": [
       "            Mpremium     SMB     HML     MOM\n",
       "Date                                        \n",
       "1927-01-01    0.9989  0.9989  1.0492  1.0023\n",
       "1927-02-01    1.0432  1.0035  1.0317  0.9846\n",
       "1927-03-01    1.0032  0.9813  0.9708  1.0323\n",
       "1927-04-01    1.0041  1.0044  1.0133  1.0428\n",
       "1927-05-01    1.0539  1.0040  1.0275  1.0334"
      ]
     },
     "execution_count": 40,
     "metadata": {},
     "output_type": "execute_result"
    }
   ],
   "source": [
    "cumdf.head()"
   ]
  },
  {
   "cell_type": "code",
   "execution_count": 41,
   "metadata": {},
   "outputs": [],
   "source": [
    "cumdf = cumdf.cumprod()"
   ]
  },
  {
   "cell_type": "code",
   "execution_count": 44,
   "metadata": {},
   "outputs": [
    {
     "data": {
      "text/html": [
       "<div>\n",
       "<style>\n",
       "    .dataframe thead tr:only-child th {\n",
       "        text-align: right;\n",
       "    }\n",
       "\n",
       "    .dataframe thead th {\n",
       "        text-align: left;\n",
       "    }\n",
       "\n",
       "    .dataframe tbody tr th {\n",
       "        vertical-align: top;\n",
       "    }\n",
       "</style>\n",
       "<table border=\"1\" class=\"dataframe\">\n",
       "  <thead>\n",
       "    <tr style=\"text-align: right;\">\n",
       "      <th></th>\n",
       "      <th>Mpremium</th>\n",
       "      <th>SMB</th>\n",
       "      <th>HML</th>\n",
       "      <th>MOM</th>\n",
       "    </tr>\n",
       "    <tr>\n",
       "      <th>Date</th>\n",
       "      <th></th>\n",
       "      <th></th>\n",
       "      <th></th>\n",
       "      <th></th>\n",
       "    </tr>\n",
       "  </thead>\n",
       "  <tbody>\n",
       "    <tr>\n",
       "      <th>2009-08-01</th>\n",
       "      <td>87.210275</td>\n",
       "      <td>7.402185</td>\n",
       "      <td>15.705354</td>\n",
       "      <td>275.175269</td>\n",
       "    </tr>\n",
       "    <tr>\n",
       "      <th>2009-09-01</th>\n",
       "      <td>91.152180</td>\n",
       "      <td>7.613887</td>\n",
       "      <td>15.796445</td>\n",
       "      <td>261.499058</td>\n",
       "    </tr>\n",
       "    <tr>\n",
       "      <th>2009-10-01</th>\n",
       "      <td>88.563458</td>\n",
       "      <td>7.298672</td>\n",
       "      <td>15.527906</td>\n",
       "      <td>268.454933</td>\n",
       "    </tr>\n",
       "    <tr>\n",
       "      <th>2009-11-01</th>\n",
       "      <td>93.647000</td>\n",
       "      <td>7.070954</td>\n",
       "      <td>15.512378</td>\n",
       "      <td>269.582443</td>\n",
       "    </tr>\n",
       "    <tr>\n",
       "      <th>2009-12-01</th>\n",
       "      <td>96.381493</td>\n",
       "      <td>7.473998</td>\n",
       "      <td>15.487558</td>\n",
       "      <td>277.508167</td>\n",
       "    </tr>\n",
       "  </tbody>\n",
       "</table>\n",
       "</div>"
      ],
      "text/plain": [
       "             Mpremium       SMB        HML         MOM\n",
       "Date                                                  \n",
       "2009-08-01  87.210275  7.402185  15.705354  275.175269\n",
       "2009-09-01  91.152180  7.613887  15.796445  261.499058\n",
       "2009-10-01  88.563458  7.298672  15.527906  268.454933\n",
       "2009-11-01  93.647000  7.070954  15.512378  269.582443\n",
       "2009-12-01  96.381493  7.473998  15.487558  277.508167"
      ]
     },
     "execution_count": 44,
     "metadata": {},
     "output_type": "execute_result"
    }
   ],
   "source": [
    "cumdf.tail()"
   ]
  },
  {
   "cell_type": "code",
   "execution_count": 46,
   "metadata": {},
   "outputs": [
    {
     "data": {
      "text/plain": [
       "<matplotlib.legend.Legend at 0x225b6405198>"
      ]
     },
     "execution_count": 46,
     "metadata": {},
     "output_type": "execute_result"
    },
    {
     "data": {
      "image/png": "[encoded data removed]",
      "text/plain": [
       "<matplotlib.figure.Figure at 0x225b64052b0>"
      ]
     },
     "metadata": {},
     "output_type": "display_data"
    }
   ],
   "source": [
    "plt.plot(cumdf)\n",
    "plt.legend(cumdf.columns)"
   ]
  },
  {
   "cell_type": "code",
   "execution_count": 50,
   "metadata": {},
   "outputs": [],
   "source": [
    "percentdf = fdf/100"
   ]
  },
  {
   "cell_type": "code",
   "execution_count": 51,
   "metadata": {},
   "outputs": [
    {
     "data": {
      "text/html": [
       "<table class=\"simpletable\">\n",
       "<caption>OLS Regression Results</caption>\n",
       "<tr>\n",
       "  <th>Dep. Variable:</th>           <td>SMB</td>       <th>  R-squared:         </th> <td>   0.116</td>\n",
       "</tr>\n",
       "<tr>\n",
       "  <th>Model:</th>                   <td>OLS</td>       <th>  Adj. R-squared:    </th> <td>   0.115</td>\n",
       "</tr>\n",
       "<tr>\n",
       "  <th>Method:</th>             <td>Least Squares</td>  <th>  F-statistic:       </th> <td>   130.0</td>\n",
       "</tr>\n",
       "<tr>\n",
       "  <th>Date:</th>             <td>Wed, 21 Mar 2018</td> <th>  Prob (F-statistic):</th> <td>2.19e-28</td>\n",
       "</tr>\n",
       "<tr>\n",
       "  <th>Time:</th>                 <td>19:53:09</td>     <th>  Log-Likelihood:    </th> <td>  2061.7</td>\n",
       "</tr>\n",
       "<tr>\n",
       "  <th>No. Observations:</th>      <td>   996</td>      <th>  AIC:               </th> <td>  -4119.</td>\n",
       "</tr>\n",
       "<tr>\n",
       "  <th>Df Residuals:</th>          <td>   994</td>      <th>  BIC:               </th> <td>  -4110.</td>\n",
       "</tr>\n",
       "<tr>\n",
       "  <th>Df Model:</th>              <td>     1</td>      <th>                     </th>     <td> </td>   \n",
       "</tr>\n",
       "<tr>\n",
       "  <th>Covariance Type:</th>      <td>nonrobust</td>    <th>                     </th>     <td> </td>   \n",
       "</tr>\n",
       "</table>\n",
       "<table class=\"simpletable\">\n",
       "<tr>\n",
       "      <td></td>        <th>coef</th>     <th>std err</th>      <th>t</th>      <th>P>|t|</th>  <th>[0.025</th>    <th>0.975]</th>  \n",
       "</tr>\n",
       "<tr>\n",
       "  <th>const</th>    <td>    0.0013</td> <td>    0.001</td> <td>    1.333</td> <td> 0.183</td> <td>   -0.001</td> <td>    0.003</td>\n",
       "</tr>\n",
       "<tr>\n",
       "  <th>Mpremium</th> <td>    0.2017</td> <td>    0.018</td> <td>   11.401</td> <td> 0.000</td> <td>    0.167</td> <td>    0.236</td>\n",
       "</tr>\n",
       "</table>\n",
       "<table class=\"simpletable\">\n",
       "<tr>\n",
       "  <th>Omnibus:</th>       <td>439.089</td> <th>  Durbin-Watson:     </th> <td>   2.027</td> \n",
       "</tr>\n",
       "<tr>\n",
       "  <th>Prob(Omnibus):</th> <td> 0.000</td>  <th>  Jarque-Bera (JB):  </th> <td>10452.858</td>\n",
       "</tr>\n",
       "<tr>\n",
       "  <th>Skew:</th>          <td> 1.467</td>  <th>  Prob(JB):          </th> <td>    0.00</td> \n",
       "</tr>\n",
       "<tr>\n",
       "  <th>Kurtosis:</th>      <td>18.597</td>  <th>  Cond. No.          </th> <td>    18.3</td> \n",
       "</tr>\n",
       "</table>"
      ],
      "text/plain": [
       "<class 'statsmodels.iolib.summary.Summary'>\n",
       "\"\"\"\n",
       "                            OLS Regression Results                            \n",
       "==============================================================================\n",
       "Dep. Variable:                    SMB   R-squared:                       0.116\n",
       "Model:                            OLS   Adj. R-squared:                  0.115\n",
       "Method:                 Least Squares   F-statistic:                     130.0\n",
       "Date:                Wed, 21 Mar 2018   Prob (F-statistic):           2.19e-28\n",
       "Time:                        19:53:09   Log-Likelihood:                 2061.7\n",
       "No. Observations:                 996   AIC:                            -4119.\n",
       "Df Residuals:                     994   BIC:                            -4110.\n",
       "Df Model:                           1                                         \n",
       "Covariance Type:            nonrobust                                         \n",
       "==============================================================================\n",
       "                 coef    std err          t      P>|t|      [0.025      0.975]\n",
       "------------------------------------------------------------------------------\n",
       "const          0.0013      0.001      1.333      0.183      -0.001       0.003\n",
       "Mpremium       0.2017      0.018     11.401      0.000       0.167       0.236\n",
       "==============================================================================\n",
       "Omnibus:                      439.089   Durbin-Watson:                   2.027\n",
       "Prob(Omnibus):                  0.000   Jarque-Bera (JB):            10452.858\n",
       "Skew:                           1.467   Prob(JB):                         0.00\n",
       "Kurtosis:                      18.597   Cond. No.                         18.3\n",
       "==============================================================================\n",
       "\n",
       "Warnings:\n",
       "[1] Standard Errors assume that the covariance matrix of the errors is correctly specified.\n",
       "\"\"\""
      ]
     },
     "execution_count": 51,
     "metadata": {},
     "output_type": "execute_result"
    }
   ],
   "source": [
    "X = percentdf['Mpremium']\n",
    "X1 = sm.add_constant(X)\n",
    "y = percentdf['SMB']\n",
    "#slope, intercept, r_value, p_value, std_err = stats.linregress(X,y)\n",
    "Wregression = sm.OLS(y,X1).fit()\n",
    "Wregression.summary()"
   ]
  },
  {
   "cell_type": "code",
   "execution_count": 52,
   "metadata": {},
   "outputs": [
    {
     "data": {
      "text/html": [
       "<table class=\"simpletable\">\n",
       "<caption>OLS Regression Results</caption>\n",
       "<tr>\n",
       "  <th>Dep. Variable:</th>           <td>HML</td>       <th>  R-squared:         </th> <td>   0.057</td>\n",
       "</tr>\n",
       "<tr>\n",
       "  <th>Model:</th>                   <td>OLS</td>       <th>  Adj. R-squared:    </th> <td>   0.056</td>\n",
       "</tr>\n",
       "<tr>\n",
       "  <th>Method:</th>             <td>Least Squares</td>  <th>  F-statistic:       </th> <td>   59.57</td>\n",
       "</tr>\n",
       "<tr>\n",
       "  <th>Date:</th>             <td>Wed, 21 Mar 2018</td> <th>  Prob (F-statistic):</th> <td>2.87e-14</td>\n",
       "</tr>\n",
       "<tr>\n",
       "  <th>Time:</th>                 <td>19:53:31</td>     <th>  Log-Likelihood:    </th> <td>  1888.6</td>\n",
       "</tr>\n",
       "<tr>\n",
       "  <th>No. Observations:</th>      <td>   996</td>      <th>  AIC:               </th> <td>  -3773.</td>\n",
       "</tr>\n",
       "<tr>\n",
       "  <th>Df Residuals:</th>          <td>   994</td>      <th>  BIC:               </th> <td>  -3763.</td>\n",
       "</tr>\n",
       "<tr>\n",
       "  <th>Df Model:</th>              <td>     1</td>      <th>                     </th>     <td> </td>   \n",
       "</tr>\n",
       "<tr>\n",
       "  <th>Covariance Type:</th>      <td>nonrobust</td>    <th>                     </th>     <td> </td>   \n",
       "</tr>\n",
       "</table>\n",
       "<table class=\"simpletable\">\n",
       "<tr>\n",
       "      <td></td>        <th>coef</th>     <th>std err</th>      <th>t</th>      <th>P>|t|</th>  <th>[0.025</th>    <th>0.975]</th>  \n",
       "</tr>\n",
       "<tr>\n",
       "  <th>const</th>    <td>    0.0024</td> <td>    0.001</td> <td>    2.106</td> <td> 0.035</td> <td>    0.000</td> <td>    0.005</td>\n",
       "</tr>\n",
       "<tr>\n",
       "  <th>Mpremium</th> <td>    0.1625</td> <td>    0.021</td> <td>    7.718</td> <td> 0.000</td> <td>    0.121</td> <td>    0.204</td>\n",
       "</tr>\n",
       "</table>\n",
       "<table class=\"simpletable\">\n",
       "<tr>\n",
       "  <th>Omnibus:</th>       <td>284.195</td> <th>  Durbin-Watson:     </th> <td>   1.657</td>\n",
       "</tr>\n",
       "<tr>\n",
       "  <th>Prob(Omnibus):</th> <td> 0.000</td>  <th>  Jarque-Bera (JB):  </th> <td>3700.092</td>\n",
       "</tr>\n",
       "<tr>\n",
       "  <th>Skew:</th>          <td> 0.925</td>  <th>  Prob(JB):          </th> <td>    0.00</td>\n",
       "</tr>\n",
       "<tr>\n",
       "  <th>Kurtosis:</th>      <td>12.259</td>  <th>  Cond. No.          </th> <td>    18.3</td>\n",
       "</tr>\n",
       "</table>"
      ],
      "text/plain": [
       "<class 'statsmodels.iolib.summary.Summary'>\n",
       "\"\"\"\n",
       "                            OLS Regression Results                            \n",
       "==============================================================================\n",
       "Dep. Variable:                    HML   R-squared:                       0.057\n",
       "Model:                            OLS   Adj. R-squared:                  0.056\n",
       "Method:                 Least Squares   F-statistic:                     59.57\n",
       "Date:                Wed, 21 Mar 2018   Prob (F-statistic):           2.87e-14\n",
       "Time:                        19:53:31   Log-Likelihood:                 1888.6\n",
       "No. Observations:                 996   AIC:                            -3773.\n",
       "Df Residuals:                     994   BIC:                            -3763.\n",
       "Df Model:                           1                                         \n",
       "Covariance Type:            nonrobust                                         \n",
       "==============================================================================\n",
       "                 coef    std err          t      P>|t|      [0.025      0.975]\n",
       "------------------------------------------------------------------------------\n",
       "const          0.0024      0.001      2.106      0.035       0.000       0.005\n",
       "Mpremium       0.1625      0.021      7.718      0.000       0.121       0.204\n",
       "==============================================================================\n",
       "Omnibus:                      284.195   Durbin-Watson:                   1.657\n",
       "Prob(Omnibus):                  0.000   Jarque-Bera (JB):             3700.092\n",
       "Skew:                           0.925   Prob(JB):                         0.00\n",
       "Kurtosis:                      12.259   Cond. No.                         18.3\n",
       "==============================================================================\n",
       "\n",
       "Warnings:\n",
       "[1] Standard Errors assume that the covariance matrix of the errors is correctly specified.\n",
       "\"\"\""
      ]
     },
     "execution_count": 52,
     "metadata": {},
     "output_type": "execute_result"
    }
   ],
   "source": [
    "X = percentdf['Mpremium']\n",
    "X1 = sm.add_constant(X)\n",
    "y = percentdf['HML']\n",
    "#slope, intercept, r_value, p_value, std_err = stats.linregress(X,y)\n",
    "Wregression = sm.OLS(y,X1).fit()\n",
    "Wregression.summary()"
   ]
  },
  {
   "cell_type": "code",
   "execution_count": 54,
   "metadata": {},
   "outputs": [
    {
     "data": {
      "text/html": [
       "<table class=\"simpletable\">\n",
       "<caption>OLS Regression Results</caption>\n",
       "<tr>\n",
       "  <th>Dep. Variable:</th>           <td>MOM</td>       <th>  R-squared:         </th> <td>   0.120</td>\n",
       "</tr>\n",
       "<tr>\n",
       "  <th>Model:</th>                   <td>OLS</td>       <th>  Adj. R-squared:    </th> <td>   0.119</td>\n",
       "</tr>\n",
       "<tr>\n",
       "  <th>Method:</th>             <td>Least Squares</td>  <th>  F-statistic:       </th> <td>   135.1</td>\n",
       "</tr>\n",
       "<tr>\n",
       "  <th>Date:</th>             <td>Wed, 21 Mar 2018</td> <th>  Prob (F-statistic):</th> <td>2.23e-29</td>\n",
       "</tr>\n",
       "<tr>\n",
       "  <th>Time:</th>                 <td>19:53:46</td>     <th>  Log-Likelihood:    </th> <td>  1667.4</td>\n",
       "</tr>\n",
       "<tr>\n",
       "  <th>No. Observations:</th>      <td>   996</td>      <th>  AIC:               </th> <td>  -3331.</td>\n",
       "</tr>\n",
       "<tr>\n",
       "  <th>Df Residuals:</th>          <td>   994</td>      <th>  BIC:               </th> <td>  -3321.</td>\n",
       "</tr>\n",
       "<tr>\n",
       "  <th>Df Model:</th>              <td>     1</td>      <th>                     </th>     <td> </td>   \n",
       "</tr>\n",
       "<tr>\n",
       "  <th>Covariance Type:</th>      <td>nonrobust</td>    <th>                     </th>     <td> </td>   \n",
       "</tr>\n",
       "</table>\n",
       "<table class=\"simpletable\">\n",
       "<tr>\n",
       "      <td></td>        <th>coef</th>     <th>std err</th>      <th>t</th>      <th>P>|t|</th>  <th>[0.025</th>    <th>0.975]</th>  \n",
       "</tr>\n",
       "<tr>\n",
       "  <th>const</th>    <td>    0.0089</td> <td>    0.001</td> <td>    6.120</td> <td> 0.000</td> <td>    0.006</td> <td>    0.012</td>\n",
       "</tr>\n",
       "<tr>\n",
       "  <th>Mpremium</th> <td>   -0.3055</td> <td>    0.026</td> <td>  -11.625</td> <td> 0.000</td> <td>   -0.357</td> <td>   -0.254</td>\n",
       "</tr>\n",
       "</table>\n",
       "<table class=\"simpletable\">\n",
       "<tr>\n",
       "  <th>Omnibus:</th>       <td>528.309</td> <th>  Durbin-Watson:     </th> <td>   1.914</td>\n",
       "</tr>\n",
       "<tr>\n",
       "  <th>Prob(Omnibus):</th> <td> 0.000</td>  <th>  Jarque-Bera (JB):  </th> <td>9689.892</td>\n",
       "</tr>\n",
       "<tr>\n",
       "  <th>Skew:</th>          <td>-2.004</td>  <th>  Prob(JB):          </th> <td>    0.00</td>\n",
       "</tr>\n",
       "<tr>\n",
       "  <th>Kurtosis:</th>      <td>17.746</td>  <th>  Cond. No.          </th> <td>    18.3</td>\n",
       "</tr>\n",
       "</table>"
      ],
      "text/plain": [
       "<class 'statsmodels.iolib.summary.Summary'>\n",
       "\"\"\"\n",
       "                            OLS Regression Results                            \n",
       "==============================================================================\n",
       "Dep. Variable:                    MOM   R-squared:                       0.120\n",
       "Model:                            OLS   Adj. R-squared:                  0.119\n",
       "Method:                 Least Squares   F-statistic:                     135.1\n",
       "Date:                Wed, 21 Mar 2018   Prob (F-statistic):           2.23e-29\n",
       "Time:                        19:53:46   Log-Likelihood:                 1667.4\n",
       "No. Observations:                 996   AIC:                            -3331.\n",
       "Df Residuals:                     994   BIC:                            -3321.\n",
       "Df Model:                           1                                         \n",
       "Covariance Type:            nonrobust                                         \n",
       "==============================================================================\n",
       "                 coef    std err          t      P>|t|      [0.025      0.975]\n",
       "------------------------------------------------------------------------------\n",
       "const          0.0089      0.001      6.120      0.000       0.006       0.012\n",
       "Mpremium      -0.3055      0.026    -11.625      0.000      -0.357      -0.254\n",
       "==============================================================================\n",
       "Omnibus:                      528.309   Durbin-Watson:                   1.914\n",
       "Prob(Omnibus):                  0.000   Jarque-Bera (JB):             9689.892\n",
       "Skew:                          -2.004   Prob(JB):                         0.00\n",
       "Kurtosis:                      17.746   Cond. No.                         18.3\n",
       "==============================================================================\n",
       "\n",
       "Warnings:\n",
       "[1] Standard Errors assume that the covariance matrix of the errors is correctly specified.\n",
       "\"\"\""
      ]
     },
     "execution_count": 54,
     "metadata": {},
     "output_type": "execute_result"
    }
   ],
   "source": [
    "X = percentdf['Mpremium']\n",
    "X1 = sm.add_constant(X)\n",
    "y = percentdf['MOM']\n",
    "#slope, intercept, r_value, p_value, std_err = stats.linregress(X,y)\n",
    "Wregression = sm.OLS(y,X1).fit()\n",
    "Wregression.summary()"
   ]
  },
  {
   "cell_type": "code",
   "execution_count": null,
   "metadata": {
    "collapsed": true
   },
   "outputs": [],
   "source": []
  }
 ],
 "metadata": {
  "kernelspec": {
   "display_name": "Python 3",
   "language": "python",
   "name": "python3"
  },
  "language_info": {
   "codemirror_mode": {
    "name": "ipython",
    "version": 3
   },
   "file_extension": ".py",
   "mimetype": "text/x-python",
   "name": "python",
   "nbconvert_exporter": "python",
   "pygments_lexer": "ipython3",
   "version": "3.6.3"
  }
 },
 "nbformat": 4,
 "nbformat_minor": 2
}
