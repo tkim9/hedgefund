{
 "cells": [
  {
   "cell_type": "code",
   "execution_count": 1,
   "metadata": {
    "collapsed": true
   },
   "outputs": [],
   "source": [
    "import numpy as np\n",
    "import pandas as pd"
   ]
  },
  {
   "cell_type": "code",
   "execution_count": 2,
   "metadata": {},
   "outputs": [
    {
     "name": "stderr",
     "output_type": "stream",
     "text": [
      "C:\\Users\\Owner\\Anaconda3\\lib\\site-packages\\statsmodels\\compat\\pandas.py:56: FutureWarning: The pandas.core.datetools module is deprecated and will be removed in a future version. Please use the pandas.tseries module instead.\n",
      "  from pandas.core import datetools\n"
     ]
    }
   ],
   "source": [
    "\n",
    "\n",
    "from scipy import stats\n",
    "import statsmodels.api as sm   # regression\n",
    "\n",
    "import matplotlib.pyplot as plt\n"
   ]
  },
  {
   "cell_type": "code",
   "execution_count": 3,
   "metadata": {
    "collapsed": true
   },
   "outputs": [],
   "source": [
    "sp500 = pd.read_csv('SP500_DailyIndex-1.csv', parse_dates= ['Date'])"
   ]
  },
  {
   "cell_type": "code",
   "execution_count": 4,
   "metadata": {
    "collapsed": true
   },
   "outputs": [],
   "source": [
    "sp500.set_index('Date',inplace=True)"
   ]
  },
  {
   "cell_type": "code",
   "execution_count": 5,
   "metadata": {
    "collapsed": true
   },
   "outputs": [],
   "source": [
    "sp500.drop(['Open', 'High', 'Low', 'Close', 'Volume'], axis=1, inplace=True)"
   ]
  },
  {
   "cell_type": "code",
   "execution_count": 6,
   "metadata": {
    "collapsed": true
   },
   "outputs": [],
   "source": [
    "sp500.columns = ['sp500']"
   ]
  },
  {
   "cell_type": "code",
   "execution_count": 7,
   "metadata": {
    "collapsed": true
   },
   "outputs": [],
   "source": [
    "sp500['sp500ret'] = (sp500['sp500'] / sp500['sp500'].shift(1))  -1"
   ]
  },
  {
   "cell_type": "code",
   "execution_count": 8,
   "metadata": {
    "collapsed": true
   },
   "outputs": [],
   "source": [
    "sp500.dropna(inplace=True)"
   ]
  },
  {
   "cell_type": "code",
   "execution_count": 9,
   "metadata": {
    "collapsed": true
   },
   "outputs": [],
   "source": [
    "ff3 = pd.read_csv('FF3Factors_Daily-1.csv', parse_dates= ['Date'])"
   ]
  },
  {
   "cell_type": "code",
   "execution_count": 10,
   "metadata": {
    "collapsed": true
   },
   "outputs": [],
   "source": [
    "ff3.set_index('Date', inplace = True)"
   ]
  },
  {
   "cell_type": "code",
   "execution_count": 11,
   "metadata": {
    "collapsed": true
   },
   "outputs": [],
   "source": [
    "df = sp500.join(ff3, how= 'inner')"
   ]
  },
  {
   "cell_type": "code",
   "execution_count": 12,
   "metadata": {
    "collapsed": true
   },
   "outputs": [],
   "source": [
    "df['exret'] = df['sp500ret'] - df['RF'] / 100"
   ]
  },
  {
   "cell_type": "code",
   "execution_count": 13,
   "metadata": {
    "collapsed": true
   },
   "outputs": [],
   "source": [
    "df1 = df.loc['1965-01-01':'2017-12-31']"
   ]
  },
  {
   "cell_type": "code",
   "execution_count": 14,
   "metadata": {
    "collapsed": true
   },
   "outputs": [],
   "source": [
    "cumret = pd.DataFrame((1+df['exret']).resample('M').prod())"
   ]
  },
  {
   "cell_type": "code",
   "execution_count": 15,
   "metadata": {
    "collapsed": true
   },
   "outputs": [],
   "source": [
    "cumret.columns = ['monthly_cumret']"
   ]
  },
  {
   "cell_type": "code",
   "execution_count": 16,
   "metadata": {},
   "outputs": [
    {
     "data": {
      "text/html": [
       "<div>\n",
       "<style scoped>\n",
       "    .dataframe tbody tr th:only-of-type {\n",
       "        vertical-align: middle;\n",
       "    }\n",
       "\n",
       "    .dataframe tbody tr th {\n",
       "        vertical-align: top;\n",
       "    }\n",
       "\n",
       "    .dataframe thead th {\n",
       "        text-align: right;\n",
       "    }\n",
       "</style>\n",
       "<table border=\"1\" class=\"dataframe\">\n",
       "  <thead>\n",
       "    <tr style=\"text-align: right;\">\n",
       "      <th></th>\n",
       "      <th>monthly_cumret</th>\n",
       "    </tr>\n",
       "    <tr>\n",
       "      <th>Date</th>\n",
       "      <th></th>\n",
       "    </tr>\n",
       "  </thead>\n",
       "  <tbody>\n",
       "    <tr>\n",
       "      <th>1960-01-31</th>\n",
       "      <td>0.925220</td>\n",
       "    </tr>\n",
       "    <tr>\n",
       "      <th>1960-02-29</th>\n",
       "      <td>1.006350</td>\n",
       "    </tr>\n",
       "    <tr>\n",
       "      <th>1960-03-31</th>\n",
       "      <td>0.982703</td>\n",
       "    </tr>\n",
       "    <tr>\n",
       "      <th>1960-04-30</th>\n",
       "      <td>0.980507</td>\n",
       "    </tr>\n",
       "    <tr>\n",
       "      <th>1960-05-31</th>\n",
       "      <td>1.024057</td>\n",
       "    </tr>\n",
       "  </tbody>\n",
       "</table>\n",
       "</div>"
      ],
      "text/plain": [
       "            monthly_cumret\n",
       "Date                      \n",
       "1960-01-31        0.925220\n",
       "1960-02-29        1.006350\n",
       "1960-03-31        0.982703\n",
       "1960-04-30        0.980507\n",
       "1960-05-31        1.024057"
      ]
     },
     "execution_count": 16,
     "metadata": {},
     "output_type": "execute_result"
    }
   ],
   "source": [
    "cumret.head()"
   ]
  },
  {
   "cell_type": "code",
   "execution_count": 17,
   "metadata": {
    "collapsed": true
   },
   "outputs": [],
   "source": [
    "df['cumprod'] = (1+ df['exret'] / 100)"
   ]
  },
  {
   "cell_type": "code",
   "execution_count": 18,
   "metadata": {
    "collapsed": true
   },
   "outputs": [],
   "source": [
    "def cumretfunc(df): \n",
    "    v=(df.prod())-1\n",
    "    return v"
   ]
  },
  {
   "cell_type": "code",
   "execution_count": 19,
   "metadata": {
    "collapsed": true
   },
   "outputs": [],
   "source": [
    "# rollingret = pd.rolling_apply(monthlydf, 12, lambda x: np.prod(x))"
   ]
  },
  {
   "cell_type": "code",
   "execution_count": 20,
   "metadata": {
    "collapsed": true
   },
   "outputs": [],
   "source": [
    "cumret['rolling12_cumret'] = cumret.rolling(window=12,center=False).apply(lambda x: cumretfunc(x))"
   ]
  },
  {
   "cell_type": "code",
   "execution_count": 21,
   "metadata": {},
   "outputs": [
    {
     "data": {
      "text/plain": [
       "0.9447767117349792"
      ]
     },
     "execution_count": 21,
     "metadata": {},
     "output_type": "execute_result"
    }
   ],
   "source": [
    "# test to see if this is right\n",
    "\n",
    "cumret['monthly_cumret'].iloc[0:12].prod()"
   ]
  },
  {
   "cell_type": "code",
   "execution_count": 22,
   "metadata": {
    "collapsed": true
   },
   "outputs": [],
   "source": [
    "cumret1 = cumret.loc['1965-01-01':'2017-12-31']"
   ]
  },
  {
   "cell_type": "markdown",
   "metadata": {},
   "source": [
    "### Ex-Ante Volatility"
   ]
  },
  {
   "cell_type": "code",
   "execution_count": 23,
   "metadata": {
    "collapsed": true
   },
   "outputs": [],
   "source": [
    "# professor way\n",
    "\n",
    "delta = 60.0/61.0\n",
    "cols = ['Ret_stdev']\n",
    "lst = []\n",
    "test3 = []\n",
    "\n",
    "for i in range(len(df1)):\n",
    "    exret = df1['exret'].iloc[0:i+1]\n",
    "    counter = np.array(range(0,i+1))[::-1]\n",
    "    counter2 = (1-delta) * (delta**counter)\n",
    "    exret_mn = np.dot(counter2, exret)\n",
    "    test3.append(exret_mn)\n",
    "    exret_devsq = np.dot(counter2, (exret-exret_mn)**2)\n",
    "    exret_stdev = (261 * exret_devsq)**0.5\n",
    "    lst.append(exret_stdev)\n",
    "\n",
    "\n",
    "df1_stdev = pd.DataFrame(lst, columns = cols, index= df1.index)"
   ]
  },
  {
   "cell_type": "code",
   "execution_count": 24,
   "metadata": {
    "collapsed": true
   },
   "outputs": [],
   "source": [
    "df1_stdev = pd.DataFrame(lst, columns = cols, index= df1.index)"
   ]
  },
  {
   "cell_type": "code",
   "execution_count": 25,
   "metadata": {
    "collapsed": true
   },
   "outputs": [],
   "source": [
    "df2 = df1.join(df1_stdev, how='inner')"
   ]
  },
  {
   "cell_type": "code",
   "execution_count": 63,
   "metadata": {},
   "outputs": [
    {
     "data": {
      "text/html": [
       "<div>\n",
       "<style scoped>\n",
       "    .dataframe tbody tr th:only-of-type {\n",
       "        vertical-align: middle;\n",
       "    }\n",
       "\n",
       "    .dataframe tbody tr th {\n",
       "        vertical-align: top;\n",
       "    }\n",
       "\n",
       "    .dataframe thead th {\n",
       "        text-align: right;\n",
       "    }\n",
       "</style>\n",
       "<table border=\"1\" class=\"dataframe\">\n",
       "  <thead>\n",
       "    <tr style=\"text-align: right;\">\n",
       "      <th></th>\n",
       "      <th>sp500</th>\n",
       "      <th>sp500ret</th>\n",
       "      <th>Mkt-RF</th>\n",
       "      <th>SMB</th>\n",
       "      <th>HML</th>\n",
       "      <th>RF</th>\n",
       "      <th>exret</th>\n",
       "      <th>Ret_stdev</th>\n",
       "    </tr>\n",
       "    <tr>\n",
       "      <th>Date</th>\n",
       "      <th></th>\n",
       "      <th></th>\n",
       "      <th></th>\n",
       "      <th></th>\n",
       "      <th></th>\n",
       "      <th></th>\n",
       "      <th></th>\n",
       "      <th></th>\n",
       "    </tr>\n",
       "  </thead>\n",
       "  <tbody>\n",
       "    <tr>\n",
       "      <th>1965-01-04</th>\n",
       "      <td>84.230003</td>\n",
       "      <td>-0.006136</td>\n",
       "      <td>-0.45</td>\n",
       "      <td>0.71</td>\n",
       "      <td>-0.08</td>\n",
       "      <td>0.014</td>\n",
       "      <td>-0.006276</td>\n",
       "      <td>0.012768</td>\n",
       "    </tr>\n",
       "    <tr>\n",
       "      <th>1965-01-05</th>\n",
       "      <td>84.629997</td>\n",
       "      <td>0.004749</td>\n",
       "      <td>0.49</td>\n",
       "      <td>0.39</td>\n",
       "      <td>-0.10</td>\n",
       "      <td>0.014</td>\n",
       "      <td>0.004609</td>\n",
       "      <td>0.016009</td>\n",
       "    </tr>\n",
       "    <tr>\n",
       "      <th>1965-01-06</th>\n",
       "      <td>84.889999</td>\n",
       "      <td>0.003072</td>\n",
       "      <td>0.34</td>\n",
       "      <td>0.19</td>\n",
       "      <td>0.44</td>\n",
       "      <td>0.014</td>\n",
       "      <td>0.002932</td>\n",
       "      <td>0.016998</td>\n",
       "    </tr>\n",
       "    <tr>\n",
       "      <th>1965-01-07</th>\n",
       "      <td>85.260002</td>\n",
       "      <td>0.004359</td>\n",
       "      <td>0.40</td>\n",
       "      <td>0.07</td>\n",
       "      <td>0.18</td>\n",
       "      <td>0.014</td>\n",
       "      <td>0.004219</td>\n",
       "      <td>0.018878</td>\n",
       "    </tr>\n",
       "    <tr>\n",
       "      <th>1965-01-08</th>\n",
       "      <td>85.370003</td>\n",
       "      <td>0.001290</td>\n",
       "      <td>0.17</td>\n",
       "      <td>0.18</td>\n",
       "      <td>-0.20</td>\n",
       "      <td>0.014</td>\n",
       "      <td>0.001150</td>\n",
       "      <td>0.018826</td>\n",
       "    </tr>\n",
       "    <tr>\n",
       "      <th>1965-01-11</th>\n",
       "      <td>85.400002</td>\n",
       "      <td>0.000351</td>\n",
       "      <td>0.06</td>\n",
       "      <td>0.07</td>\n",
       "      <td>0.09</td>\n",
       "      <td>0.014</td>\n",
       "      <td>0.000211</td>\n",
       "      <td>0.018670</td>\n",
       "    </tr>\n",
       "    <tr>\n",
       "      <th>1965-01-12</th>\n",
       "      <td>85.610001</td>\n",
       "      <td>0.002459</td>\n",
       "      <td>0.28</td>\n",
       "      <td>0.19</td>\n",
       "      <td>-0.09</td>\n",
       "      <td>0.014</td>\n",
       "      <td>0.002319</td>\n",
       "      <td>0.019005</td>\n",
       "    </tr>\n",
       "    <tr>\n",
       "      <th>1965-01-13</th>\n",
       "      <td>85.839996</td>\n",
       "      <td>0.002687</td>\n",
       "      <td>0.28</td>\n",
       "      <td>0.22</td>\n",
       "      <td>-0.02</td>\n",
       "      <td>0.014</td>\n",
       "      <td>0.002547</td>\n",
       "      <td>0.019404</td>\n",
       "    </tr>\n",
       "    <tr>\n",
       "      <th>1965-01-14</th>\n",
       "      <td>85.839996</td>\n",
       "      <td>0.000000</td>\n",
       "      <td>0.00</td>\n",
       "      <td>0.04</td>\n",
       "      <td>0.24</td>\n",
       "      <td>0.014</td>\n",
       "      <td>-0.000140</td>\n",
       "      <td>0.019268</td>\n",
       "    </tr>\n",
       "    <tr>\n",
       "      <th>1965-01-15</th>\n",
       "      <td>86.209999</td>\n",
       "      <td>0.004310</td>\n",
       "      <td>0.41</td>\n",
       "      <td>-0.18</td>\n",
       "      <td>0.17</td>\n",
       "      <td>0.014</td>\n",
       "      <td>0.004170</td>\n",
       "      <td>0.020639</td>\n",
       "    </tr>\n",
       "    <tr>\n",
       "      <th>1965-01-18</th>\n",
       "      <td>86.489998</td>\n",
       "      <td>0.003248</td>\n",
       "      <td>0.28</td>\n",
       "      <td>-0.10</td>\n",
       "      <td>-0.22</td>\n",
       "      <td>0.014</td>\n",
       "      <td>0.003108</td>\n",
       "      <td>0.021164</td>\n",
       "    </tr>\n",
       "    <tr>\n",
       "      <th>1965-01-19</th>\n",
       "      <td>86.629997</td>\n",
       "      <td>0.001619</td>\n",
       "      <td>0.16</td>\n",
       "      <td>-0.26</td>\n",
       "      <td>0.18</td>\n",
       "      <td>0.014</td>\n",
       "      <td>0.001479</td>\n",
       "      <td>0.021071</td>\n",
       "    </tr>\n",
       "    <tr>\n",
       "      <th>1965-01-20</th>\n",
       "      <td>86.599998</td>\n",
       "      <td>-0.000346</td>\n",
       "      <td>-0.03</td>\n",
       "      <td>0.01</td>\n",
       "      <td>0.09</td>\n",
       "      <td>0.014</td>\n",
       "      <td>-0.000486</td>\n",
       "      <td>0.021002</td>\n",
       "    </tr>\n",
       "    <tr>\n",
       "      <th>1965-01-21</th>\n",
       "      <td>86.519997</td>\n",
       "      <td>-0.000924</td>\n",
       "      <td>-0.10</td>\n",
       "      <td>0.15</td>\n",
       "      <td>-0.08</td>\n",
       "      <td>0.014</td>\n",
       "      <td>-0.001064</td>\n",
       "      <td>0.021079</td>\n",
       "    </tr>\n",
       "    <tr>\n",
       "      <th>1965-01-22</th>\n",
       "      <td>86.739998</td>\n",
       "      <td>0.002543</td>\n",
       "      <td>0.24</td>\n",
       "      <td>0.04</td>\n",
       "      <td>0.11</td>\n",
       "      <td>0.014</td>\n",
       "      <td>0.002403</td>\n",
       "      <td>0.021258</td>\n",
       "    </tr>\n",
       "    <tr>\n",
       "      <th>1965-01-25</th>\n",
       "      <td>86.860001</td>\n",
       "      <td>0.001383</td>\n",
       "      <td>0.16</td>\n",
       "      <td>0.29</td>\n",
       "      <td>0.07</td>\n",
       "      <td>0.014</td>\n",
       "      <td>0.001243</td>\n",
       "      <td>0.021123</td>\n",
       "    </tr>\n",
       "    <tr>\n",
       "      <th>1965-01-26</th>\n",
       "      <td>86.940002</td>\n",
       "      <td>0.000921</td>\n",
       "      <td>0.10</td>\n",
       "      <td>0.06</td>\n",
       "      <td>-0.06</td>\n",
       "      <td>0.014</td>\n",
       "      <td>0.000781</td>\n",
       "      <td>0.020946</td>\n",
       "    </tr>\n",
       "    <tr>\n",
       "      <th>1965-01-27</th>\n",
       "      <td>87.230003</td>\n",
       "      <td>0.003336</td>\n",
       "      <td>0.28</td>\n",
       "      <td>0.18</td>\n",
       "      <td>-0.29</td>\n",
       "      <td>0.014</td>\n",
       "      <td>0.003196</td>\n",
       "      <td>0.021436</td>\n",
       "    </tr>\n",
       "    <tr>\n",
       "      <th>1965-01-28</th>\n",
       "      <td>87.480003</td>\n",
       "      <td>0.002866</td>\n",
       "      <td>0.26</td>\n",
       "      <td>0.00</td>\n",
       "      <td>-0.13</td>\n",
       "      <td>0.014</td>\n",
       "      <td>0.002726</td>\n",
       "      <td>0.021662</td>\n",
       "    </tr>\n",
       "    <tr>\n",
       "      <th>1965-01-29</th>\n",
       "      <td>87.559998</td>\n",
       "      <td>0.000914</td>\n",
       "      <td>0.13</td>\n",
       "      <td>0.32</td>\n",
       "      <td>-0.05</td>\n",
       "      <td>0.014</td>\n",
       "      <td>0.000774</td>\n",
       "      <td>0.021474</td>\n",
       "    </tr>\n",
       "    <tr>\n",
       "      <th>1965-02-01</th>\n",
       "      <td>87.580002</td>\n",
       "      <td>0.000228</td>\n",
       "      <td>0.03</td>\n",
       "      <td>0.12</td>\n",
       "      <td>-0.05</td>\n",
       "      <td>0.016</td>\n",
       "      <td>0.000068</td>\n",
       "      <td>0.021331</td>\n",
       "    </tr>\n",
       "    <tr>\n",
       "      <th>1965-02-02</th>\n",
       "      <td>87.550003</td>\n",
       "      <td>-0.000343</td>\n",
       "      <td>0.05</td>\n",
       "      <td>0.03</td>\n",
       "      <td>-0.03</td>\n",
       "      <td>0.016</td>\n",
       "      <td>-0.000503</td>\n",
       "      <td>0.021294</td>\n",
       "    </tr>\n",
       "    <tr>\n",
       "      <th>1965-02-03</th>\n",
       "      <td>87.629997</td>\n",
       "      <td>0.000914</td>\n",
       "      <td>0.14</td>\n",
       "      <td>0.22</td>\n",
       "      <td>-0.15</td>\n",
       "      <td>0.016</td>\n",
       "      <td>0.000754</td>\n",
       "      <td>0.021111</td>\n",
       "    </tr>\n",
       "    <tr>\n",
       "      <th>1965-02-04</th>\n",
       "      <td>87.570000</td>\n",
       "      <td>-0.000685</td>\n",
       "      <td>0.00</td>\n",
       "      <td>0.41</td>\n",
       "      <td>-0.27</td>\n",
       "      <td>0.016</td>\n",
       "      <td>-0.000845</td>\n",
       "      <td>0.021163</td>\n",
       "    </tr>\n",
       "    <tr>\n",
       "      <th>1965-02-05</th>\n",
       "      <td>87.290001</td>\n",
       "      <td>-0.003197</td>\n",
       "      <td>-0.25</td>\n",
       "      <td>0.39</td>\n",
       "      <td>-0.06</td>\n",
       "      <td>0.016</td>\n",
       "      <td>-0.003357</td>\n",
       "      <td>0.022522</td>\n",
       "    </tr>\n",
       "    <tr>\n",
       "      <th>1965-02-08</th>\n",
       "      <td>86.949997</td>\n",
       "      <td>-0.003895</td>\n",
       "      <td>-0.32</td>\n",
       "      <td>0.08</td>\n",
       "      <td>0.18</td>\n",
       "      <td>0.016</td>\n",
       "      <td>-0.004055</td>\n",
       "      <td>0.024227</td>\n",
       "    </tr>\n",
       "    <tr>\n",
       "      <th>1965-02-09</th>\n",
       "      <td>87.239998</td>\n",
       "      <td>0.003335</td>\n",
       "      <td>0.31</td>\n",
       "      <td>0.10</td>\n",
       "      <td>0.07</td>\n",
       "      <td>0.016</td>\n",
       "      <td>0.003175</td>\n",
       "      <td>0.024672</td>\n",
       "    </tr>\n",
       "    <tr>\n",
       "      <th>1965-02-10</th>\n",
       "      <td>86.459999</td>\n",
       "      <td>-0.008941</td>\n",
       "      <td>-0.84</td>\n",
       "      <td>-0.04</td>\n",
       "      <td>-0.02</td>\n",
       "      <td>0.016</td>\n",
       "      <td>-0.009101</td>\n",
       "      <td>0.031346</td>\n",
       "    </tr>\n",
       "    <tr>\n",
       "      <th>1965-02-11</th>\n",
       "      <td>85.540001</td>\n",
       "      <td>-0.010641</td>\n",
       "      <td>-0.99</td>\n",
       "      <td>0.33</td>\n",
       "      <td>-0.02</td>\n",
       "      <td>0.016</td>\n",
       "      <td>-0.010801</td>\n",
       "      <td>0.038401</td>\n",
       "    </tr>\n",
       "    <tr>\n",
       "      <th>1965-02-12</th>\n",
       "      <td>86.169998</td>\n",
       "      <td>0.007365</td>\n",
       "      <td>0.66</td>\n",
       "      <td>0.24</td>\n",
       "      <td>0.03</td>\n",
       "      <td>0.016</td>\n",
       "      <td>0.007205</td>\n",
       "      <td>0.040861</td>\n",
       "    </tr>\n",
       "  </tbody>\n",
       "</table>\n",
       "</div>"
      ],
      "text/plain": [
       "                sp500  sp500ret  Mkt-RF   SMB   HML     RF     exret  \\\n",
       "Date                                                                   \n",
       "1965-01-04  84.230003 -0.006136   -0.45  0.71 -0.08  0.014 -0.006276   \n",
       "1965-01-05  84.629997  0.004749    0.49  0.39 -0.10  0.014  0.004609   \n",
       "1965-01-06  84.889999  0.003072    0.34  0.19  0.44  0.014  0.002932   \n",
       "1965-01-07  85.260002  0.004359    0.40  0.07  0.18  0.014  0.004219   \n",
       "1965-01-08  85.370003  0.001290    0.17  0.18 -0.20  0.014  0.001150   \n",
       "1965-01-11  85.400002  0.000351    0.06  0.07  0.09  0.014  0.000211   \n",
       "1965-01-12  85.610001  0.002459    0.28  0.19 -0.09  0.014  0.002319   \n",
       "1965-01-13  85.839996  0.002687    0.28  0.22 -0.02  0.014  0.002547   \n",
       "1965-01-14  85.839996  0.000000    0.00  0.04  0.24  0.014 -0.000140   \n",
       "1965-01-15  86.209999  0.004310    0.41 -0.18  0.17  0.014  0.004170   \n",
       "1965-01-18  86.489998  0.003248    0.28 -0.10 -0.22  0.014  0.003108   \n",
       "1965-01-19  86.629997  0.001619    0.16 -0.26  0.18  0.014  0.001479   \n",
       "1965-01-20  86.599998 -0.000346   -0.03  0.01  0.09  0.014 -0.000486   \n",
       "1965-01-21  86.519997 -0.000924   -0.10  0.15 -0.08  0.014 -0.001064   \n",
       "1965-01-22  86.739998  0.002543    0.24  0.04  0.11  0.014  0.002403   \n",
       "1965-01-25  86.860001  0.001383    0.16  0.29  0.07  0.014  0.001243   \n",
       "1965-01-26  86.940002  0.000921    0.10  0.06 -0.06  0.014  0.000781   \n",
       "1965-01-27  87.230003  0.003336    0.28  0.18 -0.29  0.014  0.003196   \n",
       "1965-01-28  87.480003  0.002866    0.26  0.00 -0.13  0.014  0.002726   \n",
       "1965-01-29  87.559998  0.000914    0.13  0.32 -0.05  0.014  0.000774   \n",
       "1965-02-01  87.580002  0.000228    0.03  0.12 -0.05  0.016  0.000068   \n",
       "1965-02-02  87.550003 -0.000343    0.05  0.03 -0.03  0.016 -0.000503   \n",
       "1965-02-03  87.629997  0.000914    0.14  0.22 -0.15  0.016  0.000754   \n",
       "1965-02-04  87.570000 -0.000685    0.00  0.41 -0.27  0.016 -0.000845   \n",
       "1965-02-05  87.290001 -0.003197   -0.25  0.39 -0.06  0.016 -0.003357   \n",
       "1965-02-08  86.949997 -0.003895   -0.32  0.08  0.18  0.016 -0.004055   \n",
       "1965-02-09  87.239998  0.003335    0.31  0.10  0.07  0.016  0.003175   \n",
       "1965-02-10  86.459999 -0.008941   -0.84 -0.04 -0.02  0.016 -0.009101   \n",
       "1965-02-11  85.540001 -0.010641   -0.99  0.33 -0.02  0.016 -0.010801   \n",
       "1965-02-12  86.169998  0.007365    0.66  0.24  0.03  0.016  0.007205   \n",
       "\n",
       "            Ret_stdev  \n",
       "Date                   \n",
       "1965-01-04   0.012768  \n",
       "1965-01-05   0.016009  \n",
       "1965-01-06   0.016998  \n",
       "1965-01-07   0.018878  \n",
       "1965-01-08   0.018826  \n",
       "1965-01-11   0.018670  \n",
       "1965-01-12   0.019005  \n",
       "1965-01-13   0.019404  \n",
       "1965-01-14   0.019268  \n",
       "1965-01-15   0.020639  \n",
       "1965-01-18   0.021164  \n",
       "1965-01-19   0.021071  \n",
       "1965-01-20   0.021002  \n",
       "1965-01-21   0.021079  \n",
       "1965-01-22   0.021258  \n",
       "1965-01-25   0.021123  \n",
       "1965-01-26   0.020946  \n",
       "1965-01-27   0.021436  \n",
       "1965-01-28   0.021662  \n",
       "1965-01-29   0.021474  \n",
       "1965-02-01   0.021331  \n",
       "1965-02-02   0.021294  \n",
       "1965-02-03   0.021111  \n",
       "1965-02-04   0.021163  \n",
       "1965-02-05   0.022522  \n",
       "1965-02-08   0.024227  \n",
       "1965-02-09   0.024672  \n",
       "1965-02-10   0.031346  \n",
       "1965-02-11   0.038401  \n",
       "1965-02-12   0.040861  "
      ]
     },
     "execution_count": 63,
     "metadata": {},
     "output_type": "execute_result"
    }
   ],
   "source": [
    "df2.head(5)"
   ]
  },
  {
   "cell_type": "code",
   "execution_count": 27,
   "metadata": {
    "collapsed": true
   },
   "outputs": [],
   "source": [
    "df3 = pd.DataFrame((df2['Ret_stdev']).resample('M').last())"
   ]
  },
  {
   "cell_type": "code",
   "execution_count": 28,
   "metadata": {
    "collapsed": true
   },
   "outputs": [],
   "source": [
    "newdf = cumret1.join(df3, how = 'inner')"
   ]
  },
  {
   "cell_type": "code",
   "execution_count": 30,
   "metadata": {
    "collapsed": true
   },
   "outputs": [],
   "source": [
    "# define a function comparing returns\n",
    "\n",
    "# def compare(y):\n",
    "#     if y['lag'] < 0:\n",
    "#         return 1.0\n",
    "#     elif y['lag'] > 0:\n",
    "#         return -1.0\n",
    "#     else:\n",
    "#         return 0.0\n",
    "# newdf = newdf.assign(compare = newdf.apply(compare, axis=1))"
   ]
  },
  {
   "cell_type": "markdown",
   "metadata": {},
   "source": [
    "### Creating signs and size of the trade, getting Time Series Return"
   ]
  },
  {
   "cell_type": "code",
   "execution_count": 31,
   "metadata": {
    "collapsed": true
   },
   "outputs": [],
   "source": [
    "signs = [0.0,]\n",
    "for i in range(0,len(newdf)-1):\n",
    "    sign = newdf['rolling12_cumret'][i]\n",
    "    if sign > 0:\n",
    "        sign = 1.0\n",
    "    elif sign < 0:\n",
    "        sign = -1.0\n",
    "    else:\n",
    "        sign = 0.0\n",
    "    signs.append(sign)\n"
   ]
  },
  {
   "cell_type": "code",
   "execution_count": 32,
   "metadata": {
    "collapsed": true
   },
   "outputs": [],
   "source": [
    "df_signs = pd.DataFrame(signs, columns = ['sign'], index= newdf.index)\n",
    "newdf = newdf.join(df_signs, how = 'inner')"
   ]
  },
  {
   "cell_type": "code",
   "execution_count": 33,
   "metadata": {
    "collapsed": true
   },
   "outputs": [],
   "source": [
    "sizes = [0.0,]\n",
    "for i in range(0,len(newdf)-1):\n",
    "    size = 0.4 / newdf['Ret_stdev'][i]\n",
    "    sizes.append(size)\n"
   ]
  },
  {
   "cell_type": "code",
   "execution_count": 34,
   "metadata": {
    "collapsed": true
   },
   "outputs": [],
   "source": [
    "df_sizes = pd.DataFrame(sizes, columns = ['size'], index= newdf.index)\n",
    "newdf = newdf.join(df_sizes, how = 'inner')"
   ]
  },
  {
   "cell_type": "code",
   "execution_count": 36,
   "metadata": {
    "collapsed": true
   },
   "outputs": [],
   "source": [
    "newdf['TSRet'] = newdf['sign'] * newdf['size'] * (newdf['monthly_cumret'] -1 )"
   ]
  },
  {
   "cell_type": "markdown",
   "metadata": {},
   "source": [
    "### Key metrics"
   ]
  },
  {
   "cell_type": "code",
   "execution_count": 37,
   "metadata": {},
   "outputs": [
    {
     "name": "stdout",
     "output_type": "stream",
     "text": [
      "tsret mean:  0.15133563540508665\n",
      "tsret std:  0.4172247371897089\n",
      "tsret sharpe:  0.36271970934521913\n"
     ]
    }
   ],
   "source": [
    "tsret_mean = newdf['TSRet'].iloc[13:].mean() * 12\n",
    "tsret_std = newdf['TSRet'].std() * (12**0.5)\n",
    "tsret_sharpe = (tsret_mean) / tsret_std\n",
    "\n",
    "print('tsret mean: ',tsret_mean)\n",
    "print('tsret std: ',tsret_std)\n",
    "print('tsret sharpe: ',tsret_sharpe)"
   ]
  },
  {
   "cell_type": "markdown",
   "metadata": {},
   "source": [
    "### Combine with other data sets"
   ]
  },
  {
   "cell_type": "code",
   "execution_count": 38,
   "metadata": {
    "collapsed": true
   },
   "outputs": [],
   "source": [
    "ff3 = pd.read_csv('FF3Factors_Monthly.csv', parse_dates=['Date'])"
   ]
  },
  {
   "cell_type": "code",
   "execution_count": 39,
   "metadata": {},
   "outputs": [
    {
     "data": {
      "text/html": [
       "<div>\n",
       "<style scoped>\n",
       "    .dataframe tbody tr th:only-of-type {\n",
       "        vertical-align: middle;\n",
       "    }\n",
       "\n",
       "    .dataframe tbody tr th {\n",
       "        vertical-align: top;\n",
       "    }\n",
       "\n",
       "    .dataframe thead th {\n",
       "        text-align: right;\n",
       "    }\n",
       "</style>\n",
       "<table border=\"1\" class=\"dataframe\">\n",
       "  <thead>\n",
       "    <tr style=\"text-align: right;\">\n",
       "      <th></th>\n",
       "      <th>Date</th>\n",
       "      <th>Mkt-RF</th>\n",
       "      <th>SMB</th>\n",
       "      <th>HML</th>\n",
       "      <th>RF</th>\n",
       "    </tr>\n",
       "  </thead>\n",
       "  <tbody>\n",
       "    <tr>\n",
       "      <th>0</th>\n",
       "      <td>192607</td>\n",
       "      <td>2.96</td>\n",
       "      <td>-2.30</td>\n",
       "      <td>-2.87</td>\n",
       "      <td>0.22</td>\n",
       "    </tr>\n",
       "    <tr>\n",
       "      <th>1</th>\n",
       "      <td>192608</td>\n",
       "      <td>2.64</td>\n",
       "      <td>-1.40</td>\n",
       "      <td>4.19</td>\n",
       "      <td>0.25</td>\n",
       "    </tr>\n",
       "    <tr>\n",
       "      <th>2</th>\n",
       "      <td>192609</td>\n",
       "      <td>0.36</td>\n",
       "      <td>-1.32</td>\n",
       "      <td>0.01</td>\n",
       "      <td>0.23</td>\n",
       "    </tr>\n",
       "    <tr>\n",
       "      <th>3</th>\n",
       "      <td>192610</td>\n",
       "      <td>-3.24</td>\n",
       "      <td>0.04</td>\n",
       "      <td>0.51</td>\n",
       "      <td>0.32</td>\n",
       "    </tr>\n",
       "    <tr>\n",
       "      <th>4</th>\n",
       "      <td>192611</td>\n",
       "      <td>2.53</td>\n",
       "      <td>-0.20</td>\n",
       "      <td>-0.35</td>\n",
       "      <td>0.31</td>\n",
       "    </tr>\n",
       "  </tbody>\n",
       "</table>\n",
       "</div>"
      ],
      "text/plain": [
       "     Date  Mkt-RF   SMB   HML    RF\n",
       "0  192607    2.96 -2.30 -2.87  0.22\n",
       "1  192608    2.64 -1.40  4.19  0.25\n",
       "2  192609    0.36 -1.32  0.01  0.23\n",
       "3  192610   -3.24  0.04  0.51  0.32\n",
       "4  192611    2.53 -0.20 -0.35  0.31"
      ]
     },
     "execution_count": 39,
     "metadata": {},
     "output_type": "execute_result"
    }
   ],
   "source": [
    "ff3.head()"
   ]
  },
  {
   "cell_type": "code",
   "execution_count": 40,
   "metadata": {
    "collapsed": true
   },
   "outputs": [],
   "source": [
    "ff3['Date'] = ff3['Date'].apply(lambda x: str(pd.to_datetime(str(x), format= '%Y%m'))[0:7])"
   ]
  },
  {
   "cell_type": "code",
   "execution_count": 41,
   "metadata": {
    "collapsed": true
   },
   "outputs": [],
   "source": [
    "ff3.set_index('Date', inplace=True)"
   ]
  },
  {
   "cell_type": "code",
   "execution_count": 43,
   "metadata": {
    "collapsed": true
   },
   "outputs": [],
   "source": [
    "newdf.reset_index(inplace=True)\n",
    "newdf['Date'] = newdf['Date'].apply(lambda x: str(x)[0:7])\n",
    "newdf.set_index('Date',inplace=True)"
   ]
  },
  {
   "cell_type": "code",
   "execution_count": 111,
   "metadata": {},
   "outputs": [
    {
     "data": {
      "text/html": [
       "<div>\n",
       "<style scoped>\n",
       "    .dataframe tbody tr th:only-of-type {\n",
       "        vertical-align: middle;\n",
       "    }\n",
       "\n",
       "    .dataframe tbody tr th {\n",
       "        vertical-align: top;\n",
       "    }\n",
       "\n",
       "    .dataframe thead th {\n",
       "        text-align: right;\n",
       "    }\n",
       "</style>\n",
       "<table border=\"1\" class=\"dataframe\">\n",
       "  <thead>\n",
       "    <tr style=\"text-align: right;\">\n",
       "      <th></th>\n",
       "      <th>monthly_cumret</th>\n",
       "      <th>rolling12_cumret</th>\n",
       "      <th>Ret_stdev</th>\n",
       "      <th>lag</th>\n",
       "      <th>sign</th>\n",
       "      <th>size</th>\n",
       "      <th>TSRet</th>\n",
       "      <th>Mkt-RF</th>\n",
       "      <th>SMB</th>\n",
       "      <th>HML</th>\n",
       "      <th>RF</th>\n",
       "      <th>Mom</th>\n",
       "    </tr>\n",
       "    <tr>\n",
       "      <th>Date</th>\n",
       "      <th></th>\n",
       "      <th></th>\n",
       "      <th></th>\n",
       "      <th></th>\n",
       "      <th></th>\n",
       "      <th></th>\n",
       "      <th></th>\n",
       "      <th></th>\n",
       "      <th></th>\n",
       "      <th></th>\n",
       "      <th></th>\n",
       "      <th></th>\n",
       "    </tr>\n",
       "  </thead>\n",
       "  <tbody>\n",
       "    <tr>\n",
       "      <th>1965-01-01</th>\n",
       "      <td>1.030272</td>\n",
       "      <td>0.098290</td>\n",
       "      <td>0.021474</td>\n",
       "      <td>NaN</td>\n",
       "      <td>0.0</td>\n",
       "      <td>0.000000</td>\n",
       "      <td>0.000000</td>\n",
       "      <td>3.54</td>\n",
       "      <td>2.68</td>\n",
       "      <td>0.19</td>\n",
       "      <td>0.28</td>\n",
       "      <td>-1.30</td>\n",
       "    </tr>\n",
       "    <tr>\n",
       "      <th>1965-02-01</th>\n",
       "      <td>0.995484</td>\n",
       "      <td>0.085532</td>\n",
       "      <td>0.042717</td>\n",
       "      <td>0.098290</td>\n",
       "      <td>1.0</td>\n",
       "      <td>18.627119</td>\n",
       "      <td>-8.412120</td>\n",
       "      <td>0.44</td>\n",
       "      <td>3.48</td>\n",
       "      <td>0.19</td>\n",
       "      <td>0.30</td>\n",
       "      <td>0.28</td>\n",
       "    </tr>\n",
       "    <tr>\n",
       "      <th>1965-03-01</th>\n",
       "      <td>0.981852</td>\n",
       "      <td>0.053218</td>\n",
       "      <td>0.042722</td>\n",
       "      <td>0.085532</td>\n",
       "      <td>1.0</td>\n",
       "      <td>9.363984</td>\n",
       "      <td>-16.994077</td>\n",
       "      <td>-1.34</td>\n",
       "      <td>1.78</td>\n",
       "      <td>1.07</td>\n",
       "      <td>0.36</td>\n",
       "      <td>0.09</td>\n",
       "    </tr>\n",
       "    <tr>\n",
       "      <th>1965-04-01</th>\n",
       "      <td>1.030991</td>\n",
       "      <td>0.082389</td>\n",
       "      <td>0.042302</td>\n",
       "      <td>0.053218</td>\n",
       "      <td>1.0</td>\n",
       "      <td>9.362796</td>\n",
       "      <td>29.016068</td>\n",
       "      <td>3.11</td>\n",
       "      <td>1.19</td>\n",
       "      <td>0.70</td>\n",
       "      <td>0.31</td>\n",
       "      <td>2.54</td>\n",
       "    </tr>\n",
       "    <tr>\n",
       "      <th>1965-05-01</th>\n",
       "      <td>0.989085</td>\n",
       "      <td>0.061207</td>\n",
       "      <td>0.051279</td>\n",
       "      <td>0.082389</td>\n",
       "      <td>1.0</td>\n",
       "      <td>9.455747</td>\n",
       "      <td>-10.320880</td>\n",
       "      <td>-0.77</td>\n",
       "      <td>0.03</td>\n",
       "      <td>-1.61</td>\n",
       "      <td>0.31</td>\n",
       "      <td>0.53</td>\n",
       "    </tr>\n",
       "  </tbody>\n",
       "</table>\n",
       "</div>"
      ],
      "text/plain": [
       "            monthly_cumret  rolling12_cumret  Ret_stdev       lag  sign  \\\n",
       "Date                                                                      \n",
       "1965-01-01        1.030272          0.098290   0.021474       NaN   0.0   \n",
       "1965-02-01        0.995484          0.085532   0.042717  0.098290   1.0   \n",
       "1965-03-01        0.981852          0.053218   0.042722  0.085532   1.0   \n",
       "1965-04-01        1.030991          0.082389   0.042302  0.053218   1.0   \n",
       "1965-05-01        0.989085          0.061207   0.051279  0.082389   1.0   \n",
       "\n",
       "                 size      TSRet  Mkt-RF   SMB   HML    RF  Mom     \n",
       "Date                                                                \n",
       "1965-01-01   0.000000   0.000000    3.54  2.68  0.19  0.28   -1.30  \n",
       "1965-02-01  18.627119  -8.412120    0.44  3.48  0.19  0.30    0.28  \n",
       "1965-03-01   9.363984 -16.994077   -1.34  1.78  1.07  0.36    0.09  \n",
       "1965-04-01   9.362796  29.016068    3.11  1.19  0.70  0.31    2.54  \n",
       "1965-05-01   9.455747 -10.320880   -0.77  0.03 -1.61  0.31    0.53  "
      ]
     },
     "execution_count": 111,
     "metadata": {},
     "output_type": "execute_result"
    }
   ],
   "source": [
    "newdf.head()"
   ]
  },
  {
   "cell_type": "code",
   "execution_count": 45,
   "metadata": {
    "collapsed": true
   },
   "outputs": [],
   "source": [
    "newdf = newdf.join(ff3, how='inner')"
   ]
  },
  {
   "cell_type": "code",
   "execution_count": 46,
   "metadata": {
    "collapsed": true
   },
   "outputs": [],
   "source": [
    "mom = pd.read_csv('FF_Momentum_Factor_Monthly.CSV')"
   ]
  },
  {
   "cell_type": "code",
   "execution_count": 47,
   "metadata": {
    "collapsed": true
   },
   "outputs": [],
   "source": [
    "mom['Date'] = mom['Date'].apply(lambda x: str(pd.to_datetime(str(x), format= '%Y%m'))[0:7])"
   ]
  },
  {
   "cell_type": "code",
   "execution_count": 48,
   "metadata": {
    "collapsed": true
   },
   "outputs": [],
   "source": [
    "mom.set_index('Date', inplace = True)"
   ]
  },
  {
   "cell_type": "code",
   "execution_count": 49,
   "metadata": {
    "collapsed": true
   },
   "outputs": [],
   "source": [
    "newdf= newdf.join(mom, how='inner')"
   ]
  },
  {
   "cell_type": "code",
   "execution_count": 56,
   "metadata": {},
   "outputs": [
    {
     "data": {
      "text/plain": [
       "Index(['monthly_cumret', 'rolling12_cumret', 'Ret_stdev', 'lag', 'sign',\n",
       "       'size', 'TSRet', 'Mkt-RF', 'SMB', 'HML', 'RF', 'Mom   '],\n",
       "      dtype='object')"
      ]
     },
     "execution_count": 56,
     "metadata": {},
     "output_type": "execute_result"
    }
   ],
   "source": [
    "newdf.columns"
   ]
  },
  {
   "cell_type": "code",
   "execution_count": 59,
   "metadata": {},
   "outputs": [],
   "source": [
    "newdf['TSRet'] = newdf['TSRet'] *100"
   ]
  },
  {
   "cell_type": "markdown",
   "metadata": {},
   "source": [
    "### Regressions"
   ]
  },
  {
   "cell_type": "code",
   "execution_count": 60,
   "metadata": {},
   "outputs": [
    {
     "data": {
      "text/plain": [
       "<matplotlib.collections.PathCollection at 0x192db493780>"
      ]
     },
     "execution_count": 60,
     "metadata": {},
     "output_type": "execute_result"
    },
    {
     "data": {
      "image/png": "[encoded data removed]",
      "text/plain": [
       "<matplotlib.figure.Figure at 0x192d8d99710>"
      ]
     },
     "metadata": {},
     "output_type": "display_data"
    }
   ],
   "source": [
    "%matplotlib inline\n",
    "\n",
    "plt.scatter(newdf['Mkt-RF'], newdf['TSRet'])"
   ]
  },
  {
   "cell_type": "markdown",
   "metadata": {},
   "source": [
    "#### scatter plot suggests that it is hedged both sides, therefore it is market neutral"
   ]
  },
  {
   "cell_type": "code",
   "execution_count": 108,
   "metadata": {},
   "outputs": [
    {
     "data": {
      "text/html": [
       "<table class=\"simpletable\">\n",
       "<caption>OLS Regression Results</caption>\n",
       "<tr>\n",
       "  <th>Dep. Variable:</th>          <td>TSRet</td>      <th>  R-squared:         </th> <td>   0.002</td>\n",
       "</tr>\n",
       "<tr>\n",
       "  <th>Model:</th>                   <td>OLS</td>       <th>  Adj. R-squared:    </th> <td>   0.000</td>\n",
       "</tr>\n",
       "<tr>\n",
       "  <th>Method:</th>             <td>Least Squares</td>  <th>  F-statistic:       </th> <td>   1.294</td>\n",
       "</tr>\n",
       "<tr>\n",
       "  <th>Date:</th>             <td>Sun, 11 Mar 2018</td> <th>  Prob (F-statistic):</th>  <td> 0.256</td> \n",
       "</tr>\n",
       "<tr>\n",
       "  <th>Time:</th>                 <td>14:50:55</td>     <th>  Log-Likelihood:    </th> <td> -2484.0</td>\n",
       "</tr>\n",
       "<tr>\n",
       "  <th>No. Observations:</th>      <td>   636</td>      <th>  AIC:               </th> <td>   4972.</td>\n",
       "</tr>\n",
       "<tr>\n",
       "  <th>Df Residuals:</th>          <td>   634</td>      <th>  BIC:               </th> <td>   4981.</td>\n",
       "</tr>\n",
       "<tr>\n",
       "  <th>Df Model:</th>              <td>     1</td>      <th>                     </th>     <td> </td>   \n",
       "</tr>\n",
       "<tr>\n",
       "  <th>Covariance Type:</th>      <td>nonrobust</td>    <th>                     </th>     <td> </td>   \n",
       "</tr>\n",
       "</table>\n",
       "<table class=\"simpletable\">\n",
       "<tr>\n",
       "     <td></td>       <th>coef</th>     <th>std err</th>      <th>t</th>      <th>P>|t|</th>  <th>[0.025</th>    <th>0.975]</th>  \n",
       "</tr>\n",
       "<tr>\n",
       "  <th>const</th>  <td>    1.1166</td> <td>    0.481</td> <td>    2.323</td> <td> 0.021</td> <td>    0.173</td> <td>    2.061</td>\n",
       "</tr>\n",
       "<tr>\n",
       "  <th>Mkt-RF</th> <td>    0.1224</td> <td>    0.108</td> <td>    1.138</td> <td> 0.256</td> <td>   -0.089</td> <td>    0.334</td>\n",
       "</tr>\n",
       "</table>\n",
       "<table class=\"simpletable\">\n",
       "<tr>\n",
       "  <th>Omnibus:</th>       <td>18.270</td> <th>  Durbin-Watson:     </th> <td>   2.000</td>\n",
       "</tr>\n",
       "<tr>\n",
       "  <th>Prob(Omnibus):</th> <td> 0.000</td> <th>  Jarque-Bera (JB):  </th> <td>  35.714</td>\n",
       "</tr>\n",
       "<tr>\n",
       "  <th>Skew:</th>          <td>-0.128</td> <th>  Prob(JB):          </th> <td>1.76e-08</td>\n",
       "</tr>\n",
       "<tr>\n",
       "  <th>Kurtosis:</th>      <td> 4.133</td> <th>  Cond. No.          </th> <td>    4.50</td>\n",
       "</tr>\n",
       "</table>"
      ],
      "text/plain": [
       "<class 'statsmodels.iolib.summary.Summary'>\n",
       "\"\"\"\n",
       "                            OLS Regression Results                            \n",
       "==============================================================================\n",
       "Dep. Variable:                  TSRet   R-squared:                       0.002\n",
       "Model:                            OLS   Adj. R-squared:                  0.000\n",
       "Method:                 Least Squares   F-statistic:                     1.294\n",
       "Date:                Sun, 11 Mar 2018   Prob (F-statistic):              0.256\n",
       "Time:                        14:50:55   Log-Likelihood:                -2484.0\n",
       "No. Observations:                 636   AIC:                             4972.\n",
       "Df Residuals:                     634   BIC:                             4981.\n",
       "Df Model:                           1                                         \n",
       "Covariance Type:            nonrobust                                         \n",
       "==============================================================================\n",
       "                 coef    std err          t      P>|t|      [0.025      0.975]\n",
       "------------------------------------------------------------------------------\n",
       "const          1.1166      0.481      2.323      0.021       0.173       2.061\n",
       "Mkt-RF         0.1224      0.108      1.138      0.256      -0.089       0.334\n",
       "==============================================================================\n",
       "Omnibus:                       18.270   Durbin-Watson:                   2.000\n",
       "Prob(Omnibus):                  0.000   Jarque-Bera (JB):               35.714\n",
       "Skew:                          -0.128   Prob(JB):                     1.76e-08\n",
       "Kurtosis:                       4.133   Cond. No.                         4.50\n",
       "==============================================================================\n",
       "\n",
       "Warnings:\n",
       "[1] Standard Errors assume that the covariance matrix of the errors is correctly specified.\n",
       "\"\"\""
      ]
     },
     "execution_count": 108,
     "metadata": {},
     "output_type": "execute_result"
    }
   ],
   "source": [
    "X = newdf['Mkt-RF']\n",
    "X1 = sm.add_constant(X)\n",
    "y = newdf['TSRet']\n",
    "slope, intercept, r_value, p_value, std_err = stats.linregress(X,y)\n",
    "Wregression = sm.OLS(y,X1).fit()\n",
    "Wregression.summary()"
   ]
  },
  {
   "cell_type": "markdown",
   "metadata": {},
   "source": [
    "#### alpha = 1.12%, beta = 0.1224, barely correlated with the market"
   ]
  },
  {
   "cell_type": "code",
   "execution_count": 62,
   "metadata": {
    "scrolled": true
   },
   "outputs": [
    {
     "data": {
      "text/html": [
       "<table class=\"simpletable\">\n",
       "<caption>OLS Regression Results</caption>\n",
       "<tr>\n",
       "  <th>Dep. Variable:</th>          <td>TSRet</td>      <th>  R-squared:         </th> <td>   0.095</td>\n",
       "</tr>\n",
       "<tr>\n",
       "  <th>Model:</th>                   <td>OLS</td>       <th>  Adj. R-squared:    </th> <td>   0.089</td>\n",
       "</tr>\n",
       "<tr>\n",
       "  <th>Method:</th>             <td>Least Squares</td>  <th>  F-statistic:       </th> <td>   16.59</td>\n",
       "</tr>\n",
       "<tr>\n",
       "  <th>Date:</th>             <td>Mon, 05 Mar 2018</td> <th>  Prob (F-statistic):</th> <td>6.18e-13</td>\n",
       "</tr>\n",
       "<tr>\n",
       "  <th>Time:</th>                 <td>19:28:50</td>     <th>  Log-Likelihood:    </th> <td> -2452.9</td>\n",
       "</tr>\n",
       "<tr>\n",
       "  <th>No. Observations:</th>      <td>   636</td>      <th>  AIC:               </th> <td>   4916.</td>\n",
       "</tr>\n",
       "<tr>\n",
       "  <th>Df Residuals:</th>          <td>   631</td>      <th>  BIC:               </th> <td>   4938.</td>\n",
       "</tr>\n",
       "<tr>\n",
       "  <th>Df Model:</th>              <td>     4</td>      <th>                     </th>     <td> </td>   \n",
       "</tr>\n",
       "<tr>\n",
       "  <th>Covariance Type:</th>      <td>nonrobust</td>    <th>                     </th>     <td> </td>   \n",
       "</tr>\n",
       "</table>\n",
       "<table class=\"simpletable\">\n",
       "<tr>\n",
       "     <td></td>       <th>coef</th>     <th>std err</th>      <th>t</th>      <th>P>|t|</th>  <th>[0.025</th>    <th>0.975]</th>  \n",
       "</tr>\n",
       "<tr>\n",
       "  <th>const</th>  <td>    0.3673</td> <td>    0.475</td> <td>    0.773</td> <td> 0.440</td> <td>   -0.566</td> <td>    1.300</td>\n",
       "</tr>\n",
       "<tr>\n",
       "  <th>SMB</th>    <td>   -0.4636</td> <td>    0.155</td> <td>   -2.990</td> <td> 0.003</td> <td>   -0.768</td> <td>   -0.159</td>\n",
       "</tr>\n",
       "<tr>\n",
       "  <th>HML</th>    <td>    0.5025</td> <td>    0.172</td> <td>    2.914</td> <td> 0.004</td> <td>    0.164</td> <td>    0.841</td>\n",
       "</tr>\n",
       "<tr>\n",
       "  <th>Mkt-RF</th> <td>    0.4069</td> <td>    0.112</td> <td>    3.626</td> <td> 0.000</td> <td>    0.187</td> <td>    0.627</td>\n",
       "</tr>\n",
       "<tr>\n",
       "  <th>Mom   </th> <td>    0.8157</td> <td>    0.111</td> <td>    7.330</td> <td> 0.000</td> <td>    0.597</td> <td>    1.034</td>\n",
       "</tr>\n",
       "</table>\n",
       "<table class=\"simpletable\">\n",
       "<tr>\n",
       "  <th>Omnibus:</th>       <td>20.133</td> <th>  Durbin-Watson:     </th> <td>   2.005</td>\n",
       "</tr>\n",
       "<tr>\n",
       "  <th>Prob(Omnibus):</th> <td> 0.000</td> <th>  Jarque-Bera (JB):  </th> <td>  46.026</td>\n",
       "</tr>\n",
       "<tr>\n",
       "  <th>Skew:</th>          <td>-0.027</td> <th>  Prob(JB):          </th> <td>1.01e-10</td>\n",
       "</tr>\n",
       "<tr>\n",
       "  <th>Kurtosis:</th>      <td> 4.317</td> <th>  Cond. No.          </th> <td>    5.01</td>\n",
       "</tr>\n",
       "</table>"
      ],
      "text/plain": [
       "<class 'statsmodels.iolib.summary.Summary'>\n",
       "\"\"\"\n",
       "                            OLS Regression Results                            \n",
       "==============================================================================\n",
       "Dep. Variable:                  TSRet   R-squared:                       0.095\n",
       "Model:                            OLS   Adj. R-squared:                  0.089\n",
       "Method:                 Least Squares   F-statistic:                     16.59\n",
       "Date:                Mon, 05 Mar 2018   Prob (F-statistic):           6.18e-13\n",
       "Time:                        19:28:50   Log-Likelihood:                -2452.9\n",
       "No. Observations:                 636   AIC:                             4916.\n",
       "Df Residuals:                     631   BIC:                             4938.\n",
       "Df Model:                           4                                         \n",
       "Covariance Type:            nonrobust                                         \n",
       "==============================================================================\n",
       "                 coef    std err          t      P>|t|      [0.025      0.975]\n",
       "------------------------------------------------------------------------------\n",
       "const          0.3673      0.475      0.773      0.440      -0.566       1.300\n",
       "SMB           -0.4636      0.155     -2.990      0.003      -0.768      -0.159\n",
       "HML            0.5025      0.172      2.914      0.004       0.164       0.841\n",
       "Mkt-RF         0.4069      0.112      3.626      0.000       0.187       0.627\n",
       "Mom            0.8157      0.111      7.330      0.000       0.597       1.034\n",
       "==============================================================================\n",
       "Omnibus:                       20.133   Durbin-Watson:                   2.005\n",
       "Prob(Omnibus):                  0.000   Jarque-Bera (JB):               46.026\n",
       "Skew:                          -0.027   Prob(JB):                     1.01e-10\n",
       "Kurtosis:                       4.317   Cond. No.                         5.01\n",
       "==============================================================================\n",
       "\n",
       "Warnings:\n",
       "[1] Standard Errors assume that the covariance matrix of the errors is correctly specified.\n",
       "\"\"\""
      ]
     },
     "execution_count": 62,
     "metadata": {},
     "output_type": "execute_result"
    }
   ],
   "source": [
    "X = newdf[['SMB','HML','Mkt-RF','Mom   ']]\n",
    "X1 = sm.add_constant(X)\n",
    "y = newdf['TSRet']\n",
    "Wregression = sm.OLS(y,X1).fit()\n",
    "Wregression.summary()"
   ]
  },
  {
   "cell_type": "markdown",
   "metadata": {
    "collapsed": true
   },
   "source": [
    "#### Momentum factor has the highest beta, which the strategy was built on (following 12 rolling average returns)"
   ]
  },
  {
   "cell_type": "code",
   "execution_count": 89,
   "metadata": {},
   "outputs": [
    {
     "data": {
      "text/html": [
       "<div>\n",
       "<style scoped>\n",
       "    .dataframe tbody tr th:only-of-type {\n",
       "        vertical-align: middle;\n",
       "    }\n",
       "\n",
       "    .dataframe tbody tr th {\n",
       "        vertical-align: top;\n",
       "    }\n",
       "\n",
       "    .dataframe thead th {\n",
       "        text-align: right;\n",
       "    }\n",
       "</style>\n",
       "<table border=\"1\" class=\"dataframe\">\n",
       "  <thead>\n",
       "    <tr style=\"text-align: right;\">\n",
       "      <th></th>\n",
       "      <th>monthly_cumret</th>\n",
       "      <th>rolling12_cumret</th>\n",
       "      <th>Ret_stdev</th>\n",
       "      <th>lag</th>\n",
       "      <th>sign</th>\n",
       "      <th>size</th>\n",
       "      <th>TSRet</th>\n",
       "      <th>Mkt-RF</th>\n",
       "      <th>SMB</th>\n",
       "      <th>HML</th>\n",
       "      <th>RF</th>\n",
       "      <th>Mom</th>\n",
       "    </tr>\n",
       "    <tr>\n",
       "      <th>Date</th>\n",
       "      <th></th>\n",
       "      <th></th>\n",
       "      <th></th>\n",
       "      <th></th>\n",
       "      <th></th>\n",
       "      <th></th>\n",
       "      <th></th>\n",
       "      <th></th>\n",
       "      <th></th>\n",
       "      <th></th>\n",
       "      <th></th>\n",
       "      <th></th>\n",
       "    </tr>\n",
       "  </thead>\n",
       "  <tbody>\n",
       "    <tr>\n",
       "      <th>1965-01-01</th>\n",
       "      <td>1.030272</td>\n",
       "      <td>0.098290</td>\n",
       "      <td>0.021474</td>\n",
       "      <td>NaN</td>\n",
       "      <td>0.0</td>\n",
       "      <td>0.000000</td>\n",
       "      <td>0.000000</td>\n",
       "      <td>3.54</td>\n",
       "      <td>2.68</td>\n",
       "      <td>0.19</td>\n",
       "      <td>0.28</td>\n",
       "      <td>-1.30</td>\n",
       "    </tr>\n",
       "    <tr>\n",
       "      <th>1965-02-01</th>\n",
       "      <td>0.995484</td>\n",
       "      <td>0.085532</td>\n",
       "      <td>0.042717</td>\n",
       "      <td>0.098290</td>\n",
       "      <td>1.0</td>\n",
       "      <td>18.627119</td>\n",
       "      <td>-8.412120</td>\n",
       "      <td>0.44</td>\n",
       "      <td>3.48</td>\n",
       "      <td>0.19</td>\n",
       "      <td>0.30</td>\n",
       "      <td>0.28</td>\n",
       "    </tr>\n",
       "    <tr>\n",
       "      <th>1965-03-01</th>\n",
       "      <td>0.981852</td>\n",
       "      <td>0.053218</td>\n",
       "      <td>0.042722</td>\n",
       "      <td>0.085532</td>\n",
       "      <td>1.0</td>\n",
       "      <td>9.363984</td>\n",
       "      <td>-16.994077</td>\n",
       "      <td>-1.34</td>\n",
       "      <td>1.78</td>\n",
       "      <td>1.07</td>\n",
       "      <td>0.36</td>\n",
       "      <td>0.09</td>\n",
       "    </tr>\n",
       "    <tr>\n",
       "      <th>1965-04-01</th>\n",
       "      <td>1.030991</td>\n",
       "      <td>0.082389</td>\n",
       "      <td>0.042302</td>\n",
       "      <td>0.053218</td>\n",
       "      <td>1.0</td>\n",
       "      <td>9.362796</td>\n",
       "      <td>29.016068</td>\n",
       "      <td>3.11</td>\n",
       "      <td>1.19</td>\n",
       "      <td>0.70</td>\n",
       "      <td>0.31</td>\n",
       "      <td>2.54</td>\n",
       "    </tr>\n",
       "    <tr>\n",
       "      <th>1965-05-01</th>\n",
       "      <td>0.989085</td>\n",
       "      <td>0.061207</td>\n",
       "      <td>0.051279</td>\n",
       "      <td>0.082389</td>\n",
       "      <td>1.0</td>\n",
       "      <td>9.455747</td>\n",
       "      <td>-10.320880</td>\n",
       "      <td>-0.77</td>\n",
       "      <td>0.03</td>\n",
       "      <td>-1.61</td>\n",
       "      <td>0.31</td>\n",
       "      <td>0.53</td>\n",
       "    </tr>\n",
       "    <tr>\n",
       "      <th>1965-06-01</th>\n",
       "      <td>0.948018</td>\n",
       "      <td>-0.007162</td>\n",
       "      <td>0.097774</td>\n",
       "      <td>0.061207</td>\n",
       "      <td>1.0</td>\n",
       "      <td>7.800451</td>\n",
       "      <td>-40.548609</td>\n",
       "      <td>-5.51</td>\n",
       "      <td>-4.35</td>\n",
       "      <td>0.58</td>\n",
       "      <td>0.35</td>\n",
       "      <td>-3.13</td>\n",
       "    </tr>\n",
       "    <tr>\n",
       "      <th>1965-07-01</th>\n",
       "      <td>1.010248</td>\n",
       "      <td>-0.012136</td>\n",
       "      <td>0.093299</td>\n",
       "      <td>-0.007162</td>\n",
       "      <td>-1.0</td>\n",
       "      <td>4.091069</td>\n",
       "      <td>-4.192366</td>\n",
       "      <td>1.43</td>\n",
       "      <td>0.87</td>\n",
       "      <td>2.17</td>\n",
       "      <td>0.31</td>\n",
       "      <td>4.09</td>\n",
       "    </tr>\n",
       "    <tr>\n",
       "      <th>1965-08-01</th>\n",
       "      <td>1.019156</td>\n",
       "      <td>0.026198</td>\n",
       "      <td>0.080139</td>\n",
       "      <td>-0.012136</td>\n",
       "      <td>-1.0</td>\n",
       "      <td>4.287289</td>\n",
       "      <td>-8.212882</td>\n",
       "      <td>2.73</td>\n",
       "      <td>2.84</td>\n",
       "      <td>-1.04</td>\n",
       "      <td>0.33</td>\n",
       "      <td>2.57</td>\n",
       "    </tr>\n",
       "    <tr>\n",
       "      <th>1965-09-01</th>\n",
       "      <td>1.028765</td>\n",
       "      <td>0.029047</td>\n",
       "      <td>0.074566</td>\n",
       "      <td>0.026198</td>\n",
       "      <td>1.0</td>\n",
       "      <td>4.991331</td>\n",
       "      <td>14.357726</td>\n",
       "      <td>2.86</td>\n",
       "      <td>0.63</td>\n",
       "      <td>-0.14</td>\n",
       "      <td>0.31</td>\n",
       "      <td>3.32</td>\n",
       "    </tr>\n",
       "    <tr>\n",
       "      <th>1965-10-01</th>\n",
       "      <td>1.024118</td>\n",
       "      <td>0.048414</td>\n",
       "      <td>0.067236</td>\n",
       "      <td>0.029047</td>\n",
       "      <td>1.0</td>\n",
       "      <td>5.364348</td>\n",
       "      <td>12.937905</td>\n",
       "      <td>2.60</td>\n",
       "      <td>2.48</td>\n",
       "      <td>1.50</td>\n",
       "      <td>0.31</td>\n",
       "      <td>3.44</td>\n",
       "    </tr>\n",
       "    <tr>\n",
       "      <th>1965-11-01</th>\n",
       "      <td>0.987869</td>\n",
       "      <td>0.044067</td>\n",
       "      <td>0.062006</td>\n",
       "      <td>0.048414</td>\n",
       "      <td>1.0</td>\n",
       "      <td>5.949156</td>\n",
       "      <td>-7.216658</td>\n",
       "      <td>-0.03</td>\n",
       "      <td>4.69</td>\n",
       "      <td>0.20</td>\n",
       "      <td>0.35</td>\n",
       "      <td>4.41</td>\n",
       "    </tr>\n",
       "    <tr>\n",
       "      <th>1965-12-01</th>\n",
       "      <td>1.005628</td>\n",
       "      <td>0.049081</td>\n",
       "      <td>0.061062</td>\n",
       "      <td>0.044067</td>\n",
       "      <td>1.0</td>\n",
       "      <td>6.451001</td>\n",
       "      <td>3.630623</td>\n",
       "      <td>1.01</td>\n",
       "      <td>2.09</td>\n",
       "      <td>1.99</td>\n",
       "      <td>0.33</td>\n",
       "      <td>0.15</td>\n",
       "    </tr>\n",
       "  </tbody>\n",
       "</table>\n",
       "</div>"
      ],
      "text/plain": [
       "            monthly_cumret  rolling12_cumret  Ret_stdev       lag  sign  \\\n",
       "Date                                                                      \n",
       "1965-01-01        1.030272          0.098290   0.021474       NaN   0.0   \n",
       "1965-02-01        0.995484          0.085532   0.042717  0.098290   1.0   \n",
       "1965-03-01        0.981852          0.053218   0.042722  0.085532   1.0   \n",
       "1965-04-01        1.030991          0.082389   0.042302  0.053218   1.0   \n",
       "1965-05-01        0.989085          0.061207   0.051279  0.082389   1.0   \n",
       "1965-06-01        0.948018         -0.007162   0.097774  0.061207   1.0   \n",
       "1965-07-01        1.010248         -0.012136   0.093299 -0.007162  -1.0   \n",
       "1965-08-01        1.019156          0.026198   0.080139 -0.012136  -1.0   \n",
       "1965-09-01        1.028765          0.029047   0.074566  0.026198   1.0   \n",
       "1965-10-01        1.024118          0.048414   0.067236  0.029047   1.0   \n",
       "1965-11-01        0.987869          0.044067   0.062006  0.048414   1.0   \n",
       "1965-12-01        1.005628          0.049081   0.061062  0.044067   1.0   \n",
       "\n",
       "                 size      TSRet  Mkt-RF   SMB   HML    RF  Mom     \n",
       "Date                                                                \n",
       "1965-01-01   0.000000   0.000000    3.54  2.68  0.19  0.28   -1.30  \n",
       "1965-02-01  18.627119  -8.412120    0.44  3.48  0.19  0.30    0.28  \n",
       "1965-03-01   9.363984 -16.994077   -1.34  1.78  1.07  0.36    0.09  \n",
       "1965-04-01   9.362796  29.016068    3.11  1.19  0.70  0.31    2.54  \n",
       "1965-05-01   9.455747 -10.320880   -0.77  0.03 -1.61  0.31    0.53  \n",
       "1965-06-01   7.800451 -40.548609   -5.51 -4.35  0.58  0.35   -3.13  \n",
       "1965-07-01   4.091069  -4.192366    1.43  0.87  2.17  0.31    4.09  \n",
       "1965-08-01   4.287289  -8.212882    2.73  2.84 -1.04  0.33    2.57  \n",
       "1965-09-01   4.991331  14.357726    2.86  0.63 -0.14  0.31    3.32  \n",
       "1965-10-01   5.364348  12.937905    2.60  2.48  1.50  0.31    3.44  \n",
       "1965-11-01   5.949156  -7.216658   -0.03  4.69  0.20  0.35    4.41  \n",
       "1965-12-01   6.451001   3.630623    1.01  2.09  1.99  0.33    0.15  "
      ]
     },
     "execution_count": 89,
     "metadata": {},
     "output_type": "execute_result"
    }
   ],
   "source": [
    "newdf.head(12)"
   ]
  },
  {
   "cell_type": "code",
   "execution_count": 70,
   "metadata": {},
   "outputs": [],
   "source": [
    "newdf.reset_index(inplace=True)"
   ]
  },
  {
   "cell_type": "code",
   "execution_count": 75,
   "metadata": {},
   "outputs": [],
   "source": [
    "newdf['Date'] = newdf['Date'].apply(lambda x: x.split('-')[0] + x.split('-')[1])"
   ]
  },
  {
   "cell_type": "code",
   "execution_count": 77,
   "metadata": {},
   "outputs": [],
   "source": [
    "newdf['Date'] = newdf['Date'].apply(lambda x: pd.to_datetime(x, format= '%Y%m'))"
   ]
  },
  {
   "cell_type": "code",
   "execution_count": 78,
   "metadata": {
    "collapsed": true
   },
   "outputs": [],
   "source": [
    "newdf.set_index('Date', inplace=True)"
   ]
  },
  {
   "cell_type": "code",
   "execution_count": 98,
   "metadata": {
    "collapsed": true
   },
   "outputs": [],
   "source": [
    "yeardf = pd.DataFrame((1+newdf['TSRet']/100).resample('Y').prod())"
   ]
  },
  {
   "cell_type": "code",
   "execution_count": 99,
   "metadata": {},
   "outputs": [
    {
     "data": {
      "text/html": [
       "<div>\n",
       "<style scoped>\n",
       "    .dataframe tbody tr th:only-of-type {\n",
       "        vertical-align: middle;\n",
       "    }\n",
       "\n",
       "    .dataframe tbody tr th {\n",
       "        vertical-align: top;\n",
       "    }\n",
       "\n",
       "    .dataframe thead th {\n",
       "        text-align: right;\n",
       "    }\n",
       "</style>\n",
       "<table border=\"1\" class=\"dataframe\">\n",
       "  <thead>\n",
       "    <tr style=\"text-align: right;\">\n",
       "      <th></th>\n",
       "      <th>TSRet</th>\n",
       "    </tr>\n",
       "    <tr>\n",
       "      <th>Date</th>\n",
       "      <th></th>\n",
       "    </tr>\n",
       "  </thead>\n",
       "  <tbody>\n",
       "    <tr>\n",
       "      <th>1965-12-31</th>\n",
       "      <td>0.571070</td>\n",
       "    </tr>\n",
       "    <tr>\n",
       "      <th>1966-12-31</th>\n",
       "      <td>1.197163</td>\n",
       "    </tr>\n",
       "    <tr>\n",
       "      <th>1967-12-31</th>\n",
       "      <td>0.725862</td>\n",
       "    </tr>\n",
       "    <tr>\n",
       "      <th>1968-12-31</th>\n",
       "      <td>0.406370</td>\n",
       "    </tr>\n",
       "    <tr>\n",
       "      <th>1969-12-31</th>\n",
       "      <td>1.481330</td>\n",
       "    </tr>\n",
       "  </tbody>\n",
       "</table>\n",
       "</div>"
      ],
      "text/plain": [
       "               TSRet\n",
       "Date                \n",
       "1965-12-31  0.571070\n",
       "1966-12-31  1.197163\n",
       "1967-12-31  0.725862\n",
       "1968-12-31  0.406370\n",
       "1969-12-31  1.481330"
      ]
     },
     "execution_count": 99,
     "metadata": {},
     "output_type": "execute_result"
    }
   ],
   "source": [
    "yeardf.head()"
   ]
  },
  {
   "cell_type": "code",
   "execution_count": 100,
   "metadata": {
    "collapsed": true
   },
   "outputs": [],
   "source": [
    "yeardf['TSRetAnn'] = yeardf['TSRet'] -1"
   ]
  },
  {
   "cell_type": "code",
   "execution_count": 101,
   "metadata": {},
   "outputs": [
    {
     "name": "stderr",
     "output_type": "stream",
     "text": [
      "C:\\Users\\Owner\\Anaconda3\\lib\\site-packages\\pandas\\plotting\\_core.py:1716: UserWarning: Pandas doesn't allow columns to be created via a new attribute name - see https://pandas.pydata.org/pandas-docs/stable/indexing.html#attribute-access\n",
      "  series.name = label\n"
     ]
    },
    {
     "data": {
      "text/plain": [
       "Text(0,0.5,'Annual Retrun %')"
      ]
     },
     "execution_count": 101,
     "metadata": {},
     "output_type": "execute_result"
    },
    {
     "data": {
      "image/png": "[encoded data removed]",
      "text/plain": [
       "<matplotlib.figure.Figure at 0x192e10c2a90>"
      ]
     },
     "metadata": {},
     "output_type": "display_data"
    }
   ],
   "source": [
    "barplot = yeardf.plot(x=yeardf.index, y=['TSRetAnn'], kind='bar', figsize=(16,10))\n",
    "barplot.set_ylabel('Annual Retrun %')"
   ]
  },
  {
   "cell_type": "code",
   "execution_count": 110,
   "metadata": {},
   "outputs": [
    {
     "data": {
      "text/plain": [
       "0.10377051005524945"
      ]
     },
     "execution_count": 110,
     "metadata": {},
     "output_type": "execute_result"
    }
   ],
   "source": [
    "# variables from above CAPM regression\n",
    "\n",
    "inforatio= (intercept/100)/std_err\n",
    "inforatio"
   ]
  },
  {
   "cell_type": "code",
   "execution_count": 149,
   "metadata": {},
   "outputs": [
    {
     "data": {
      "text/plain": [
       "(array([ 1.,  0.,  0.,  0.,  0.,  1.,  1.,  4.,  1.,  2.,  6.,  7., 17.,\n",
       "        19., 29., 52., 66., 58., 63., 82., 54., 51., 47., 30., 16.,  8.,\n",
       "         5.,  4.,  7.,  4.]),\n",
       " array([-0.57297373, -0.54176408, -0.51055444, -0.47934479, -0.44813515,\n",
       "        -0.4169255 , -0.38571586, -0.35450621, -0.32329657, -0.29208692,\n",
       "        -0.26087728, -0.22966763, -0.19845799, -0.16724834, -0.1360387 ,\n",
       "        -0.10482905, -0.07361941, -0.04240976, -0.01120012,  0.02000953,\n",
       "         0.05121917,  0.08242882,  0.11363846,  0.14484811,  0.17605775,\n",
       "         0.2072674 ,  0.23847704,  0.26968669,  0.30089633,  0.33210598,\n",
       "         0.36331562]),\n",
       " <a list of 30 Patch objects>)"
      ]
     },
     "execution_count": 149,
     "metadata": {},
     "output_type": "execute_result"
    },
    {
     "data": {
      "image/png": "[encoded data removed]",
      "text/plain": [
       "<matplotlib.figure.Figure at 0x192e2fded68>"
      ]
     },
     "metadata": {},
     "output_type": "display_data"
    }
   ],
   "source": [
    "plt.hist (returns, bins = 30)"
   ]
  },
  {
   "cell_type": "code",
   "execution_count": 139,
   "metadata": {},
   "outputs": [
    {
     "data": {
      "text/plain": [
       "-0.18629075764684888"
      ]
     },
     "execution_count": 139,
     "metadata": {},
     "output_type": "execute_result"
    }
   ],
   "source": [
    "from scipy.stats import norm\n",
    "\n",
    "returns = newdf['TSRet'][1:]/100\n",
    "mu = np.mean(returns)\n",
    "std = np.std(returns)\n",
    "VaR = norm.ppf(0.05, mu, std)\n",
    "VaR"
   ]
  },
  {
   "cell_type": "code",
   "execution_count": null,
   "metadata": {
    "collapsed": true
   },
   "outputs": [],
   "source": []
  }
 ],
 "metadata": {
  "kernelspec": {
   "display_name": "Python 3",
   "language": "python",
   "name": "python3"
  },
  "language_info": {
   "codemirror_mode": {
    "name": "ipython",
    "version": 3
   },
   "file_extension": ".py",
   "mimetype": "text/x-python",
   "name": "python",
   "nbconvert_exporter": "python",
   "pygments_lexer": "ipython3",
   "version": "3.6.3"
  }
 },
 "nbformat": 4,
 "nbformat_minor": 2
}
