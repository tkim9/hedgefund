{
 "cells": [
  {
   "cell_type": "code",
   "execution_count": 1,
   "metadata": {
    "collapsed": true
   },
   "outputs": [],
   "source": [
    "import numpy as np\n",
    "import pandas as pd"
   ]
  },
  {
   "cell_type": "code",
   "execution_count": 2,
   "metadata": {},
   "outputs": [
    {
     "name": "stderr",
     "output_type": "stream",
     "text": [
      "C:\\Users\\sonww\\Anaconda3\\lib\\site-packages\\statsmodels\\compat\\pandas.py:56: FutureWarning: The pandas.core.datetools module is deprecated and will be removed in a future version. Please use the pandas.tseries module instead.\n",
      "  from pandas.core import datetools\n"
     ]
    }
   ],
   "source": [
    "\n",
    "\n",
    "from scipy import stats\n",
    "import statsmodels.api as sm   # regression\n",
    "\n",
    "import matplotlib.pyplot as plt\n"
   ]
  },
  {
   "cell_type": "code",
   "execution_count": 3,
   "metadata": {},
   "outputs": [],
   "source": [
    "sp500 = pd.read_csv('SP500_DailyIndex-1.csv', parse_dates= ['Date'])"
   ]
  },
  {
   "cell_type": "code",
   "execution_count": 4,
   "metadata": {},
   "outputs": [],
   "source": [
    "sp500.set_index('Date',inplace=True)"
   ]
  },
  {
   "cell_type": "code",
   "execution_count": 5,
   "metadata": {},
   "outputs": [
    {
     "data": {
      "text/html": [
       "<div>\n",
       "<style>\n",
       "    .dataframe thead tr:only-child th {\n",
       "        text-align: right;\n",
       "    }\n",
       "\n",
       "    .dataframe thead th {\n",
       "        text-align: left;\n",
       "    }\n",
       "\n",
       "    .dataframe tbody tr th {\n",
       "        vertical-align: top;\n",
       "    }\n",
       "</style>\n",
       "<table border=\"1\" class=\"dataframe\">\n",
       "  <thead>\n",
       "    <tr style=\"text-align: right;\">\n",
       "      <th></th>\n",
       "      <th>Open</th>\n",
       "      <th>High</th>\n",
       "      <th>Low</th>\n",
       "      <th>Close</th>\n",
       "      <th>Adj Close</th>\n",
       "      <th>Volume</th>\n",
       "    </tr>\n",
       "    <tr>\n",
       "      <th>Date</th>\n",
       "      <th></th>\n",
       "      <th></th>\n",
       "      <th></th>\n",
       "      <th></th>\n",
       "      <th></th>\n",
       "      <th></th>\n",
       "    </tr>\n",
       "  </thead>\n",
       "  <tbody>\n",
       "    <tr>\n",
       "      <th>1960-01-04</th>\n",
       "      <td>59.910000</td>\n",
       "      <td>59.910000</td>\n",
       "      <td>59.910000</td>\n",
       "      <td>59.910000</td>\n",
       "      <td>59.910000</td>\n",
       "      <td>3990000</td>\n",
       "    </tr>\n",
       "    <tr>\n",
       "      <th>1960-01-05</th>\n",
       "      <td>60.389999</td>\n",
       "      <td>60.389999</td>\n",
       "      <td>60.389999</td>\n",
       "      <td>60.389999</td>\n",
       "      <td>60.389999</td>\n",
       "      <td>3710000</td>\n",
       "    </tr>\n",
       "    <tr>\n",
       "      <th>1960-01-06</th>\n",
       "      <td>60.130001</td>\n",
       "      <td>60.130001</td>\n",
       "      <td>60.130001</td>\n",
       "      <td>60.130001</td>\n",
       "      <td>60.130001</td>\n",
       "      <td>3730000</td>\n",
       "    </tr>\n",
       "    <tr>\n",
       "      <th>1960-01-07</th>\n",
       "      <td>59.689999</td>\n",
       "      <td>59.689999</td>\n",
       "      <td>59.689999</td>\n",
       "      <td>59.689999</td>\n",
       "      <td>59.689999</td>\n",
       "      <td>3310000</td>\n",
       "    </tr>\n",
       "    <tr>\n",
       "      <th>1960-01-08</th>\n",
       "      <td>59.500000</td>\n",
       "      <td>59.500000</td>\n",
       "      <td>59.500000</td>\n",
       "      <td>59.500000</td>\n",
       "      <td>59.500000</td>\n",
       "      <td>3290000</td>\n",
       "    </tr>\n",
       "  </tbody>\n",
       "</table>\n",
       "</div>"
      ],
      "text/plain": [
       "                 Open       High        Low      Close  Adj Close   Volume\n",
       "Date                                                                      \n",
       "1960-01-04  59.910000  59.910000  59.910000  59.910000  59.910000  3990000\n",
       "1960-01-05  60.389999  60.389999  60.389999  60.389999  60.389999  3710000\n",
       "1960-01-06  60.130001  60.130001  60.130001  60.130001  60.130001  3730000\n",
       "1960-01-07  59.689999  59.689999  59.689999  59.689999  59.689999  3310000\n",
       "1960-01-08  59.500000  59.500000  59.500000  59.500000  59.500000  3290000"
      ]
     },
     "execution_count": 5,
     "metadata": {},
     "output_type": "execute_result"
    }
   ],
   "source": [
    "sp500.head()"
   ]
  },
  {
   "cell_type": "code",
   "execution_count": 6,
   "metadata": {
    "collapsed": true
   },
   "outputs": [],
   "source": [
    "sp500.drop(['Open', 'High', 'Low', 'Close', 'Volume'], axis=1, inplace=True)"
   ]
  },
  {
   "cell_type": "code",
   "execution_count": 7,
   "metadata": {},
   "outputs": [
    {
     "data": {
      "text/html": [
       "<div>\n",
       "<style>\n",
       "    .dataframe thead tr:only-child th {\n",
       "        text-align: right;\n",
       "    }\n",
       "\n",
       "    .dataframe thead th {\n",
       "        text-align: left;\n",
       "    }\n",
       "\n",
       "    .dataframe tbody tr th {\n",
       "        vertical-align: top;\n",
       "    }\n",
       "</style>\n",
       "<table border=\"1\" class=\"dataframe\">\n",
       "  <thead>\n",
       "    <tr style=\"text-align: right;\">\n",
       "      <th></th>\n",
       "      <th>Adj Close</th>\n",
       "    </tr>\n",
       "    <tr>\n",
       "      <th>Date</th>\n",
       "      <th></th>\n",
       "    </tr>\n",
       "  </thead>\n",
       "  <tbody>\n",
       "    <tr>\n",
       "      <th>1960-01-04</th>\n",
       "      <td>59.910000</td>\n",
       "    </tr>\n",
       "    <tr>\n",
       "      <th>1960-01-05</th>\n",
       "      <td>60.389999</td>\n",
       "    </tr>\n",
       "    <tr>\n",
       "      <th>1960-01-06</th>\n",
       "      <td>60.130001</td>\n",
       "    </tr>\n",
       "    <tr>\n",
       "      <th>1960-01-07</th>\n",
       "      <td>59.689999</td>\n",
       "    </tr>\n",
       "    <tr>\n",
       "      <th>1960-01-08</th>\n",
       "      <td>59.500000</td>\n",
       "    </tr>\n",
       "  </tbody>\n",
       "</table>\n",
       "</div>"
      ],
      "text/plain": [
       "            Adj Close\n",
       "Date                 \n",
       "1960-01-04  59.910000\n",
       "1960-01-05  60.389999\n",
       "1960-01-06  60.130001\n",
       "1960-01-07  59.689999\n",
       "1960-01-08  59.500000"
      ]
     },
     "execution_count": 7,
     "metadata": {},
     "output_type": "execute_result"
    }
   ],
   "source": [
    "sp500.head()"
   ]
  },
  {
   "cell_type": "code",
   "execution_count": 8,
   "metadata": {},
   "outputs": [],
   "source": [
    "sp500.columns = ['sp500']"
   ]
  },
  {
   "cell_type": "code",
   "execution_count": 9,
   "metadata": {},
   "outputs": [],
   "source": [
    "sp500['sp500ret'] = (sp500['sp500'] / sp500['sp500'].shift(1))  -1"
   ]
  },
  {
   "cell_type": "code",
   "execution_count": 10,
   "metadata": {},
   "outputs": [],
   "source": [
    "sp500.dropna(inplace=True)"
   ]
  },
  {
   "cell_type": "code",
   "execution_count": 11,
   "metadata": {
    "collapsed": true
   },
   "outputs": [],
   "source": [
    "ff3 = pd.read_csv('FF3Factors_Daily-1.csv', parse_dates= ['Date'])"
   ]
  },
  {
   "cell_type": "code",
   "execution_count": 12,
   "metadata": {},
   "outputs": [],
   "source": [
    "ff3.set_index('Date', inplace = True)"
   ]
  },
  {
   "cell_type": "code",
   "execution_count": 13,
   "metadata": {},
   "outputs": [],
   "source": [
    "df = sp500.join(ff3, how= 'inner')"
   ]
  },
  {
   "cell_type": "code",
   "execution_count": 14,
   "metadata": {},
   "outputs": [
    {
     "data": {
      "text/html": [
       "<div>\n",
       "<style>\n",
       "    .dataframe thead tr:only-child th {\n",
       "        text-align: right;\n",
       "    }\n",
       "\n",
       "    .dataframe thead th {\n",
       "        text-align: left;\n",
       "    }\n",
       "\n",
       "    .dataframe tbody tr th {\n",
       "        vertical-align: top;\n",
       "    }\n",
       "</style>\n",
       "<table border=\"1\" class=\"dataframe\">\n",
       "  <thead>\n",
       "    <tr style=\"text-align: right;\">\n",
       "      <th></th>\n",
       "      <th>sp500</th>\n",
       "      <th>sp500ret</th>\n",
       "      <th>Mkt-RF</th>\n",
       "      <th>SMB</th>\n",
       "      <th>HML</th>\n",
       "      <th>RF</th>\n",
       "    </tr>\n",
       "    <tr>\n",
       "      <th>Date</th>\n",
       "      <th></th>\n",
       "      <th></th>\n",
       "      <th></th>\n",
       "      <th></th>\n",
       "      <th></th>\n",
       "      <th></th>\n",
       "    </tr>\n",
       "  </thead>\n",
       "  <tbody>\n",
       "    <tr>\n",
       "      <th>1960-01-05</th>\n",
       "      <td>60.389999</td>\n",
       "      <td>0.008012</td>\n",
       "      <td>0.78</td>\n",
       "      <td>-0.40</td>\n",
       "      <td>0.54</td>\n",
       "      <td>0.017</td>\n",
       "    </tr>\n",
       "    <tr>\n",
       "      <th>1960-01-06</th>\n",
       "      <td>60.130001</td>\n",
       "      <td>-0.004305</td>\n",
       "      <td>-0.47</td>\n",
       "      <td>0.13</td>\n",
       "      <td>0.36</td>\n",
       "      <td>0.017</td>\n",
       "    </tr>\n",
       "    <tr>\n",
       "      <th>1960-01-07</th>\n",
       "      <td>59.689999</td>\n",
       "      <td>-0.007318</td>\n",
       "      <td>-0.65</td>\n",
       "      <td>0.37</td>\n",
       "      <td>0.08</td>\n",
       "      <td>0.017</td>\n",
       "    </tr>\n",
       "    <tr>\n",
       "      <th>1960-01-08</th>\n",
       "      <td>59.500000</td>\n",
       "      <td>-0.003183</td>\n",
       "      <td>-0.33</td>\n",
       "      <td>0.18</td>\n",
       "      <td>0.10</td>\n",
       "      <td>0.017</td>\n",
       "    </tr>\n",
       "    <tr>\n",
       "      <th>1960-01-11</th>\n",
       "      <td>58.770000</td>\n",
       "      <td>-0.012269</td>\n",
       "      <td>-1.15</td>\n",
       "      <td>0.48</td>\n",
       "      <td>0.32</td>\n",
       "      <td>0.017</td>\n",
       "    </tr>\n",
       "  </tbody>\n",
       "</table>\n",
       "</div>"
      ],
      "text/plain": [
       "                sp500  sp500ret  Mkt-RF   SMB   HML     RF\n",
       "Date                                                      \n",
       "1960-01-05  60.389999  0.008012    0.78 -0.40  0.54  0.017\n",
       "1960-01-06  60.130001 -0.004305   -0.47  0.13  0.36  0.017\n",
       "1960-01-07  59.689999 -0.007318   -0.65  0.37  0.08  0.017\n",
       "1960-01-08  59.500000 -0.003183   -0.33  0.18  0.10  0.017\n",
       "1960-01-11  58.770000 -0.012269   -1.15  0.48  0.32  0.017"
      ]
     },
     "execution_count": 14,
     "metadata": {},
     "output_type": "execute_result"
    }
   ],
   "source": [
    "df.head()"
   ]
  },
  {
   "cell_type": "code",
   "execution_count": 15,
   "metadata": {},
   "outputs": [],
   "source": [
    "df['exret'] = df['sp500ret'] - df['RF'] / 100"
   ]
  },
  {
   "cell_type": "code",
   "execution_count": 16,
   "metadata": {},
   "outputs": [
    {
     "data": {
      "text/html": [
       "<div>\n",
       "<style>\n",
       "    .dataframe thead tr:only-child th {\n",
       "        text-align: right;\n",
       "    }\n",
       "\n",
       "    .dataframe thead th {\n",
       "        text-align: left;\n",
       "    }\n",
       "\n",
       "    .dataframe tbody tr th {\n",
       "        vertical-align: top;\n",
       "    }\n",
       "</style>\n",
       "<table border=\"1\" class=\"dataframe\">\n",
       "  <thead>\n",
       "    <tr style=\"text-align: right;\">\n",
       "      <th></th>\n",
       "      <th>sp500</th>\n",
       "      <th>sp500ret</th>\n",
       "      <th>Mkt-RF</th>\n",
       "      <th>SMB</th>\n",
       "      <th>HML</th>\n",
       "      <th>RF</th>\n",
       "      <th>exret</th>\n",
       "    </tr>\n",
       "    <tr>\n",
       "      <th>Date</th>\n",
       "      <th></th>\n",
       "      <th></th>\n",
       "      <th></th>\n",
       "      <th></th>\n",
       "      <th></th>\n",
       "      <th></th>\n",
       "      <th></th>\n",
       "    </tr>\n",
       "  </thead>\n",
       "  <tbody>\n",
       "    <tr>\n",
       "      <th>1960-01-05</th>\n",
       "      <td>60.389999</td>\n",
       "      <td>0.008012</td>\n",
       "      <td>0.78</td>\n",
       "      <td>-0.40</td>\n",
       "      <td>0.54</td>\n",
       "      <td>0.017</td>\n",
       "      <td>0.007842</td>\n",
       "    </tr>\n",
       "    <tr>\n",
       "      <th>1960-01-06</th>\n",
       "      <td>60.130001</td>\n",
       "      <td>-0.004305</td>\n",
       "      <td>-0.47</td>\n",
       "      <td>0.13</td>\n",
       "      <td>0.36</td>\n",
       "      <td>0.017</td>\n",
       "      <td>-0.004475</td>\n",
       "    </tr>\n",
       "    <tr>\n",
       "      <th>1960-01-07</th>\n",
       "      <td>59.689999</td>\n",
       "      <td>-0.007318</td>\n",
       "      <td>-0.65</td>\n",
       "      <td>0.37</td>\n",
       "      <td>0.08</td>\n",
       "      <td>0.017</td>\n",
       "      <td>-0.007488</td>\n",
       "    </tr>\n",
       "    <tr>\n",
       "      <th>1960-01-08</th>\n",
       "      <td>59.500000</td>\n",
       "      <td>-0.003183</td>\n",
       "      <td>-0.33</td>\n",
       "      <td>0.18</td>\n",
       "      <td>0.10</td>\n",
       "      <td>0.017</td>\n",
       "      <td>-0.003353</td>\n",
       "    </tr>\n",
       "    <tr>\n",
       "      <th>1960-01-11</th>\n",
       "      <td>58.770000</td>\n",
       "      <td>-0.012269</td>\n",
       "      <td>-1.15</td>\n",
       "      <td>0.48</td>\n",
       "      <td>0.32</td>\n",
       "      <td>0.017</td>\n",
       "      <td>-0.012439</td>\n",
       "    </tr>\n",
       "  </tbody>\n",
       "</table>\n",
       "</div>"
      ],
      "text/plain": [
       "                sp500  sp500ret  Mkt-RF   SMB   HML     RF     exret\n",
       "Date                                                                \n",
       "1960-01-05  60.389999  0.008012    0.78 -0.40  0.54  0.017  0.007842\n",
       "1960-01-06  60.130001 -0.004305   -0.47  0.13  0.36  0.017 -0.004475\n",
       "1960-01-07  59.689999 -0.007318   -0.65  0.37  0.08  0.017 -0.007488\n",
       "1960-01-08  59.500000 -0.003183   -0.33  0.18  0.10  0.017 -0.003353\n",
       "1960-01-11  58.770000 -0.012269   -1.15  0.48  0.32  0.017 -0.012439"
      ]
     },
     "execution_count": 16,
     "metadata": {},
     "output_type": "execute_result"
    }
   ],
   "source": [
    "df.head()"
   ]
  },
  {
   "cell_type": "code",
   "execution_count": 17,
   "metadata": {
    "collapsed": true
   },
   "outputs": [],
   "source": [
    "cumret = pd.DataFrame((1+df['exret']).resample('M').prod())"
   ]
  },
  {
   "cell_type": "code",
   "execution_count": 18,
   "metadata": {},
   "outputs": [],
   "source": [
    "cumret.columns = ['monthly_cumret']"
   ]
  },
  {
   "cell_type": "code",
   "execution_count": 19,
   "metadata": {},
   "outputs": [
    {
     "data": {
      "text/html": [
       "<div>\n",
       "<style>\n",
       "    .dataframe thead tr:only-child th {\n",
       "        text-align: right;\n",
       "    }\n",
       "\n",
       "    .dataframe thead th {\n",
       "        text-align: left;\n",
       "    }\n",
       "\n",
       "    .dataframe tbody tr th {\n",
       "        vertical-align: top;\n",
       "    }\n",
       "</style>\n",
       "<table border=\"1\" class=\"dataframe\">\n",
       "  <thead>\n",
       "    <tr style=\"text-align: right;\">\n",
       "      <th></th>\n",
       "      <th>monthly_cumret</th>\n",
       "    </tr>\n",
       "    <tr>\n",
       "      <th>Date</th>\n",
       "      <th></th>\n",
       "    </tr>\n",
       "  </thead>\n",
       "  <tbody>\n",
       "    <tr>\n",
       "      <th>1960-01-31</th>\n",
       "      <td>0.925220</td>\n",
       "    </tr>\n",
       "    <tr>\n",
       "      <th>1960-02-29</th>\n",
       "      <td>1.006350</td>\n",
       "    </tr>\n",
       "    <tr>\n",
       "      <th>1960-03-31</th>\n",
       "      <td>0.982703</td>\n",
       "    </tr>\n",
       "    <tr>\n",
       "      <th>1960-04-30</th>\n",
       "      <td>0.980507</td>\n",
       "    </tr>\n",
       "    <tr>\n",
       "      <th>1960-05-31</th>\n",
       "      <td>1.024057</td>\n",
       "    </tr>\n",
       "  </tbody>\n",
       "</table>\n",
       "</div>"
      ],
      "text/plain": [
       "            monthly_cumret\n",
       "Date                      \n",
       "1960-01-31        0.925220\n",
       "1960-02-29        1.006350\n",
       "1960-03-31        0.982703\n",
       "1960-04-30        0.980507\n",
       "1960-05-31        1.024057"
      ]
     },
     "execution_count": 19,
     "metadata": {},
     "output_type": "execute_result"
    }
   ],
   "source": [
    "cumret.head()"
   ]
  },
  {
   "cell_type": "code",
   "execution_count": 20,
   "metadata": {
    "collapsed": true
   },
   "outputs": [],
   "source": [
    "df['cumprod'] = (1+ df['exret'] / 100)"
   ]
  },
  {
   "cell_type": "code",
   "execution_count": 21,
   "metadata": {
    "collapsed": true
   },
   "outputs": [],
   "source": [
    "def cumretfunc(df): \n",
    "    v=(df.prod())-1\n",
    "    return v"
   ]
  },
  {
   "cell_type": "code",
   "execution_count": 22,
   "metadata": {},
   "outputs": [],
   "source": [
    "# rollingret = pd.rolling_apply(monthlydf, 12, lambda x: np.prod(x))"
   ]
  },
  {
   "cell_type": "code",
   "execution_count": 23,
   "metadata": {},
   "outputs": [],
   "source": [
    "cumret['rolling12_cumret'] = cumret.rolling(window=12,center=False).apply(lambda x: cumretfunc(x))"
   ]
  },
  {
   "cell_type": "code",
   "execution_count": 24,
   "metadata": {},
   "outputs": [
    {
     "data": {
      "text/html": [
       "<div>\n",
       "<style>\n",
       "    .dataframe thead tr:only-child th {\n",
       "        text-align: right;\n",
       "    }\n",
       "\n",
       "    .dataframe thead th {\n",
       "        text-align: left;\n",
       "    }\n",
       "\n",
       "    .dataframe tbody tr th {\n",
       "        vertical-align: top;\n",
       "    }\n",
       "</style>\n",
       "<table border=\"1\" class=\"dataframe\">\n",
       "  <thead>\n",
       "    <tr style=\"text-align: right;\">\n",
       "      <th></th>\n",
       "      <th>monthly_cumret</th>\n",
       "      <th>rolling12_cumret</th>\n",
       "    </tr>\n",
       "    <tr>\n",
       "      <th>Date</th>\n",
       "      <th></th>\n",
       "      <th></th>\n",
       "    </tr>\n",
       "  </thead>\n",
       "  <tbody>\n",
       "    <tr>\n",
       "      <th>1960-01-31</th>\n",
       "      <td>0.925220</td>\n",
       "      <td>NaN</td>\n",
       "    </tr>\n",
       "    <tr>\n",
       "      <th>1960-02-29</th>\n",
       "      <td>1.006350</td>\n",
       "      <td>NaN</td>\n",
       "    </tr>\n",
       "    <tr>\n",
       "      <th>1960-03-31</th>\n",
       "      <td>0.982703</td>\n",
       "      <td>NaN</td>\n",
       "    </tr>\n",
       "    <tr>\n",
       "      <th>1960-04-30</th>\n",
       "      <td>0.980507</td>\n",
       "      <td>NaN</td>\n",
       "    </tr>\n",
       "    <tr>\n",
       "      <th>1960-05-31</th>\n",
       "      <td>1.024057</td>\n",
       "      <td>NaN</td>\n",
       "    </tr>\n",
       "    <tr>\n",
       "      <th>1960-06-30</th>\n",
       "      <td>1.017061</td>\n",
       "      <td>NaN</td>\n",
       "    </tr>\n",
       "    <tr>\n",
       "      <th>1960-07-31</th>\n",
       "      <td>0.973862</td>\n",
       "      <td>NaN</td>\n",
       "    </tr>\n",
       "    <tr>\n",
       "      <th>1960-08-31</th>\n",
       "      <td>1.024472</td>\n",
       "      <td>NaN</td>\n",
       "    </tr>\n",
       "    <tr>\n",
       "      <th>1960-09-30</th>\n",
       "      <td>0.938025</td>\n",
       "      <td>NaN</td>\n",
       "    </tr>\n",
       "    <tr>\n",
       "      <th>1960-10-31</th>\n",
       "      <td>0.995478</td>\n",
       "      <td>NaN</td>\n",
       "    </tr>\n",
       "    <tr>\n",
       "      <th>1960-11-30</th>\n",
       "      <td>1.038817</td>\n",
       "      <td>NaN</td>\n",
       "    </tr>\n",
       "    <tr>\n",
       "      <th>1960-12-31</th>\n",
       "      <td>1.044739</td>\n",
       "      <td>-0.055223</td>\n",
       "    </tr>\n",
       "    <tr>\n",
       "      <th>1961-01-31</th>\n",
       "      <td>1.061154</td>\n",
       "      <td>0.083584</td>\n",
       "    </tr>\n",
       "    <tr>\n",
       "      <th>1961-02-28</th>\n",
       "      <td>1.025312</td>\n",
       "      <td>0.104001</td>\n",
       "    </tr>\n",
       "    <tr>\n",
       "      <th>1961-03-31</th>\n",
       "      <td>1.023510</td>\n",
       "      <td>0.149845</td>\n",
       "    </tr>\n",
       "  </tbody>\n",
       "</table>\n",
       "</div>"
      ],
      "text/plain": [
       "            monthly_cumret  rolling12_cumret\n",
       "Date                                        \n",
       "1960-01-31        0.925220               NaN\n",
       "1960-02-29        1.006350               NaN\n",
       "1960-03-31        0.982703               NaN\n",
       "1960-04-30        0.980507               NaN\n",
       "1960-05-31        1.024057               NaN\n",
       "1960-06-30        1.017061               NaN\n",
       "1960-07-31        0.973862               NaN\n",
       "1960-08-31        1.024472               NaN\n",
       "1960-09-30        0.938025               NaN\n",
       "1960-10-31        0.995478               NaN\n",
       "1960-11-30        1.038817               NaN\n",
       "1960-12-31        1.044739         -0.055223\n",
       "1961-01-31        1.061154          0.083584\n",
       "1961-02-28        1.025312          0.104001\n",
       "1961-03-31        1.023510          0.149845"
      ]
     },
     "execution_count": 24,
     "metadata": {},
     "output_type": "execute_result"
    }
   ],
   "source": [
    "cumret.head(15)"
   ]
  },
  {
   "cell_type": "code",
   "execution_count": 25,
   "metadata": {},
   "outputs": [
    {
     "data": {
      "text/plain": [
       "0.94477671173497924"
      ]
     },
     "execution_count": 25,
     "metadata": {},
     "output_type": "execute_result"
    }
   ],
   "source": [
    "# test to see if this is right\n",
    "\n",
    "cumret['monthly_cumret'].iloc[0:12].prod()"
   ]
  },
  {
   "cell_type": "code",
   "execution_count": 26,
   "metadata": {},
   "outputs": [
    {
     "data": {
      "text/plain": [
       "14598"
      ]
     },
     "execution_count": 26,
     "metadata": {},
     "output_type": "execute_result"
    }
   ],
   "source": [
    "len(df)"
   ]
  },
  {
   "cell_type": "code",
   "execution_count": 27,
   "metadata": {
    "collapsed": true
   },
   "outputs": [],
   "source": [
    "# delta = .9836065574\n",
    "# lst=[]\n",
    "# for i in range(1,10):\n",
    "#     returns5 = returns4.iloc[0:i]\n",
    "#     returns5['Index'] = list(range(len(returns5.index)))\n",
    "#     returns5['Counter'] = i - returns5['Index']\n",
    "#     returns5['Weighted r'] = (1 - delta)*delta**returns5['Counter']*returns4['SP500 Excess']\n",
    "#     returns5['Mean'] = returns5['Weighted r'].sum()\n",
    "#     returns5['Deviation Sq'] = (1 - delta)*delta**returns5['Counter']*(returns4['SP500 Excess'] - returns5['Mean'])**2\n",
    "#     Volatility = (returns5['Deviation Sq'].sum()*261)**1/2\n",
    "#     lst.append(Volatility)\n",
    "# SP_Volatility = pd.DataFrame(lst)\n",
    "# SP_Volatility"
   ]
  },
  {
   "cell_type": "code",
   "execution_count": null,
   "metadata": {
    "collapsed": true
   },
   "outputs": [],
   "source": []
  }
 ],
 "metadata": {
  "kernelspec": {
   "display_name": "Python 3",
   "language": "python",
   "name": "python3"
  },
  "language_info": {
   "codemirror_mode": {
    "name": "ipython",
    "version": 3
   },
   "file_extension": ".py",
   "mimetype": "text/x-python",
   "name": "python",
   "nbconvert_exporter": "python",
   "pygments_lexer": "ipython3",
   "version": "3.6.3"
  }
 },
 "nbformat": 4,
 "nbformat_minor": 2
}
